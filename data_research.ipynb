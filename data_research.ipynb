{
 "cells": [
  {
   "cell_type": "markdown",
   "metadata": {},
   "source": [
    "# Исследование"
   ]
  },
  {
   "cell_type": "markdown",
   "metadata": {},
   "source": [
    "## Цель и задачи исследования"
   ]
  },
  {
   "cell_type": "markdown",
   "metadata": {},
   "source": [
    "### Цель\n",
    "На основании собранных данных выявить требования к приложению, соответствие которым увеличило бы шансы успеха (как коммерческого, так и успеха у пользователей) приложения\n",
    "\n",
    "### Задачи\n",
    "* Создать формулу переменной Grade, которая бы являлась показателем успешности приложения\n",
    "* Добавить в датасет переменную Grade\n",
    "* Выделить параметры приложения, влияние которых на успешность приложения предположительно значительно (в результате исследования должны быть получены требования именно к этим параметрам)\n",
    "* Выдвинуть гипотезы относительно связи параметров с успешностью приложения или их влияния ни успешность\n",
    "* Проверить гипотезы методами анализа, описанными в них\n",
    "* Проанализировать полученные результаты\n",
    "* Сформировать требования к приложению"
   ]
  },
  {
   "cell_type": "markdown",
   "metadata": {},
   "source": [
    "## Гипотезы"
   ]
  },
  {
   "cell_type": "markdown",
   "metadata": {},
   "source": [
    "### 1.\t**Для каждой категории программ существует сезон (промежуток времени), в который выходит (обновляется) больше всего программ**\n",
    "* ***Переменные***\n",
    "    * Last updated: исходная переменная\n",
    "    * Season: сезон, в который программа вышла(обновилась). Переменная исследования, должна быть создана на основе переменной Last updated\n",
    "    * Category: переменная группировки\n",
    "\n",
    "  _Обоснование_: Переменная Category хранит именно ту информацию, которая необходима для анализа. Last updated - единственная переменная, которая хранит информацию о датах выхода(обновления) программ, кроме того, на основании этой переменной легко получить соответствующее значение переменной Season.\n",
    "\n",
    "\n",
    "* ***Метод анализа данных***\n",
    "\n",
    "    Построение частотной таблицы по переменным Category и Season\n",
    "\n",
    "    _Обоснование_: частотная таблица идеально подходит для случаев, когда    необходимо для наблюдений по одной переменной определить количество или процентное соотношение значений другой переменной. У переменной всего 4 значения, поэтому частотная таблица будет эффективна.\n",
    ">\n",
    "\n",
    "### 2.\t**Наиболее успешные приложения требуют меньше памяти, чем требуют приложения в среднем**\n",
    "* ***Переменные***\n",
    "    * Grade: Показатель успешности приложения (его оценка). Переменная создана в data_exploration.ipynb\n",
    "    * Size: переменная исследования\n",
    "\n",
    "  _Обоснование_: Как Grade, так и Size содержат именно те данные, которые необходимы для анализа.\n",
    "\n",
    "\n",
    "* ***Метод анализа данных***\n",
    "\n",
    "    Высчитать среднее арифметическое и медиану для переменной Size у 5% приложений с самым большим значением Grade и сравнить полученные значения с средним арифметическим и медианой для Size всех приложений\n",
    "\n",
    "  _Обоснование_: сочетание среднего арифметического и медианы позволит наиболее точно понять, сколько в среднем занимают приложения. Size - абсолютная переменная, поэтому вышеперечисленные показатели для неё найти будет легко.\n",
    ">\n",
    "\n",
    "### 3.\t**Между количеством памяти, требуемой для работы приложения, и рейтингом есть сильная взаимосвязь**\n",
    "* ***Переменные***\n",
    "    * Size: исходная переменная\n",
    "    * Rating: исходная переменная\n",
    "\n",
    "  _Обоснование_: Как Rating, так и Size содержат именно те данные, которые необходимы для анализа.\n",
    "\n",
    "\n",
    "* ***Метод анализа данных***\n",
    "\n",
    "    Вычислить коэффициент корреляции между переменными Rating и Size\n",
    "\n",
    "  _Обоснование_: коэффициент корреляции измеряет силу линейной взаимоствязи между двумя переменными - это как раз тот показатель, который необходимо проверить.\n",
    "\n",
    ">\n",
    "\n",
    "### 4.\t**Существует сильная взаимосвязь между минимальной версией, необходимой для работы приложения, и количеством скачиваний (чем ниже, тем больше)**\n",
    "* ***Переменные***\n",
    "    * Android Ver: исходная переменная\n",
    "    * Installs: исходная переменная\n",
    "\n",
    "  _Обоснование_: Как Installs, так и Android Ver содержат именно те данные, которые необходимы для анализа.\n",
    "\n",
    "\n",
    "* ***Метод анализа данных***\n",
    "\n",
    "    Вычислить коэффициент корреляции между переменными Android Ver и Installs\n",
    "\n",
    "  _Обоснование_: коэффициент корреляции измеряет силу линейной взаимоствязи между двумя переменными - это как раз тот показатель, который необходимо проверить.\n",
    ">\n",
    "\n",
    "### 5.\t**Существует версия Android, приложения для которой скачивают чаще всего**\n",
    "* ***Переменные***\n",
    "    * Android Ver: переменная группировки\n",
    "    * Installs: переменная исследования\n",
    "\n",
    "  _Обоснование_: Как Installs, так и Android Ver содержат именно те данные, которые необходимы для анализа.\n",
    "\n",
    "\n",
    "* ***Метод анализа данных***\n",
    "\n",
    "    Для каждого значения Android Ver посчитать среднее значение переменной Installs, отсортировать полученные группы по полученному значению\n",
    "\n",
    "  _Обоснование_: Так как значений у переменных Android Ver и Installs слишком много, построение частотной таблицы будет неэффективным. Таким образом, самым простым решением будет просто сгруппировать наблюдения по переменной Android Ver и выполнить необходимые расчёты.\n",
    ">\n",
    "\n",
    "### 6.\t**В каждой из категорий цена самых успешных приложений не превышает среднюю цену по категории**\n",
    "* ***Переменные***\n",
    "    * Category: переменная группировки\n",
    "    * Grade: показатель успешности приложения (его оценка). Переменная создана в data_exploration.ipynb\n",
    "    * Price: переменная исследования\n",
    "\n",
    "  _Обоснование_: Все три переменные содержат именно данные, необходимые для анализа\n",
    "\n",
    "\n",
    "* ***Метод анализа данных***\n",
    "\n",
    "    Высчитать среднюю цену для каждой категории, отсортировать наблюдения в категориях по переменной Grade и сравнить значения Price у 5 самых успешных приложений с полученным средним значением.\n",
    "\n",
    "  _Обоснование_: в данном случае группировка будет самым простым способом.\n",
    ">\n",
    "\n",
    "### 7.\t**Популярные программы много обновляются (имеют много версий)**\n",
    "* ***Переменные***\n",
    "    * Grade: Показатель успешности приложения (его оценка). Переменная создана в data_exploration.ipynb\n",
    "    * Current Ver: переменная исследования\n",
    "\n",
    "  _Обоснование_: Как Grade, так и Current Ver содержат именно те данные, которые необходимы для анализа.\n",
    "\n",
    "\n",
    "* ***Метод анализа данных***\n",
    "\n",
    "    Взять 10 % самых успешных (согласно показателю Grade) приложений и проанализировать значения переменной Current Ver для выбранных     записей: вычислить среднее арифметическое, медиану и моду, сравнить полученные значения с средним арифметическим, медианой и модой       всех приложений\n",
    "\n",
    "  _Обоснование_: сочетание среднего аифметического, медианы и моды позволит наиболее точно оценить среднее количество обновлений для приложений.\n",
    ">\n",
    "\n",
    "### 8.\t**Между ценой и количеством скачиваний существует сильная взаимосвязь**\n",
    "* ***Переменные***\n",
    "    * Price: исходная переменная\n",
    "    * Installs: исходная переменная\n",
    "\n",
    "  _Обоснование_: Как Price, так и Installs содержат именно те данные, которые необходимы для анализа.\n",
    "\n",
    "\n",
    "* ***Метод анализа данных***\n",
    "\n",
    "    Вычислить коэффициент корреляции между переменными Price и Installs\n",
    "\n",
    "  _Обоснование_: коэффициент корреляции измеряет силу линейной взаимоствязи между двумя переменными - это как раз тот показатель, который необходимо проверить.\n",
    ">\n",
    "\n",
    "### 9.\t**Потребители готовы заплатить одинаковую сумму за программу в каждой из категорий**\n",
    "* ***Переменные***\n",
    "    * Price: переменная исследования\n",
    "    * Category: исходная переменная\n",
    "    * Type: исходная переменная\n",
    "    * Installs: исходная переменная\n",
    "\n",
    "  _Обоснование_: Все переменные содержат именно данные, необходимые для анализа\n",
    "\n",
    "\n",
    "* ***Метод анализа данных***\n",
    "\n",
    "    Сгруппировать наблюдения по переменной Category. В каждой из групп взять 10 наиболее часто скачиваемых платных программ и посчитать среднее арифметическое, моду и медиану для переменной Price.\n",
    "\n",
    "  _Обоснование_: сочетание среднего аифметического, медианы и моды позволит достаточно точно оценить, сколько в среднемлюди платят за программы.\n",
    ">\n",
    "\n",
    "### 10.\t**Между ценой и рейтингом существует сильная взаимосвязь**\n",
    "* ***Переменные***\n",
    "    * Price: исходная переменная\n",
    "    * Rating: исходная переменная\n",
    "\n",
    "  _Обоснование_: Как Price, так и Rating содержат именно те данные, которые необходимы для анализа.\n",
    "\n",
    "\n",
    "* ***Метод анализа данных***\n",
    "\n",
    "    Вычислить коэффициент корреляции между переменными Price и Rating\n",
    "\n",
    "  _Обоснование_: коэффициент корреляции измеряет силу линейной взаимосвязи между двумя переменными - это как раз тот показатель, который необходимо проверить."
   ]
  },
  {
   "cell_type": "markdown",
   "metadata": {},
   "source": [
    "## Препроцессинг"
   ]
  },
  {
   "cell_type": "code",
   "execution_count": 101,
   "metadata": {},
   "outputs": [
    {
     "name": "stdout",
     "output_type": "stream",
     "text": [
      "Requirement already satisfied: pandas in c:\\users\\alex shalaev\\appdata\\local\\programs\\python\\python39\\lib\\site-packages (from -r requirements.txt (line 1)) (1.2.0)\n",
      "Requirement already satisfied: pandas-profiling in c:\\users\\alex shalaev\\appdata\\local\\programs\\python\\python39\\lib\\site-packages (from -r requirements.txt (line 2)) (3.6.2)\n",
      "Requirement already satisfied: scikit-learn in c:\\users\\alex shalaev\\appdata\\local\\programs\\python\\python39\\lib\\site-packages (from -r requirements.txt (line 3)) (1.0.1)\n",
      "Requirement already satisfied: ipywidgets in c:\\users\\alex shalaev\\appdata\\local\\programs\\python\\python39\\lib\\site-packages (from -r requirements.txt (line 4)) (8.0.4)\n",
      "Requirement already satisfied: numpy==1.21 in c:\\users\\alex shalaev\\appdata\\local\\programs\\python\\python39\\lib\\site-packages (from -r requirements.txt (line 5)) (1.21.0)\n",
      "Requirement already satisfied: prettytable in c:\\users\\alex shalaev\\appdata\\local\\programs\\python\\python39\\lib\\site-packages (from -r requirements.txt (line 6)) (3.4.1)\n",
      "Requirement already satisfied: pytz>=2017.3 in c:\\users\\alex shalaev\\appdata\\local\\programs\\python\\python39\\lib\\site-packages (from pandas->-r requirements.txt (line 1)) (2020.5)\n",
      "Requirement already satisfied: python-dateutil>=2.7.3 in c:\\users\\alex shalaev\\appdata\\local\\programs\\python\\python39\\lib\\site-packages (from pandas->-r requirements.txt (line 1)) (2.8.1)\n",
      "Requirement already satisfied: typeguard<2.14,>=2.13.2 in c:\\users\\alex shalaev\\appdata\\local\\programs\\python\\python39\\lib\\site-packages (from pandas-profiling->-r requirements.txt (line 2)) (2.13.3)\n",
      "Requirement already satisfied: matplotlib<3.7,>=3.2 in c:\\users\\alex shalaev\\appdata\\local\\programs\\python\\python39\\lib\\site-packages (from pandas-profiling->-r requirements.txt (line 2)) (3.4.2)\n",
      "Requirement already satisfied: PyYAML<6.1,>=5.0.0 in c:\\users\\alex shalaev\\appdata\\local\\programs\\python\\python39\\lib\\site-packages (from pandas-profiling->-r requirements.txt (line 2)) (5.4.1)\n",
      "Requirement already satisfied: pydantic<1.11,>=1.8.1 in c:\\users\\alex shalaev\\appdata\\local\\programs\\python\\python39\\lib\\site-packages (from pandas-profiling->-r requirements.txt (line 2)) (1.10.2)\n",
      "Requirement already satisfied: jinja2<3.2,>=2.11.1 in c:\\users\\alex shalaev\\appdata\\local\\programs\\python\\python39\\lib\\site-packages (from pandas-profiling->-r requirements.txt (line 2)) (3.0.2)\n",
      "Requirement already satisfied: statsmodels<0.14,>=0.13.2 in c:\\users\\alex shalaev\\appdata\\local\\programs\\python\\python39\\lib\\site-packages (from pandas-profiling->-r requirements.txt (line 2)) (0.13.5)\n",
      "Requirement already satisfied: requests<2.29,>=2.24.0 in c:\\users\\alex shalaev\\appdata\\local\\programs\\python\\python39\\lib\\site-packages (from pandas-profiling->-r requirements.txt (line 2)) (2.26.0)\n",
      "Requirement already satisfied: visions[type_image_path]==0.7.5 in c:\\users\\alex shalaev\\appdata\\local\\programs\\python\\python39\\lib\\site-packages (from pandas-profiling->-r requirements.txt (line 2)) (0.7.5)\n",
      "Requirement already satisfied: seaborn<0.13,>=0.10.1 in c:\\users\\alex shalaev\\appdata\\local\\programs\\python\\python39\\lib\\site-packages (from pandas-profiling->-r requirements.txt (line 2)) (0.11.2)\n",
      "Requirement already satisfied: tqdm<4.65,>=4.48.2 in c:\\users\\alex shalaev\\appdata\\local\\programs\\python\\python39\\lib\\site-packages (from pandas-profiling->-r requirements.txt (line 2)) (4.59.0)\n",
      "Requirement already satisfied: htmlmin==0.1.12 in c:\\users\\alex shalaev\\appdata\\local\\programs\\python\\python39\\lib\\site-packages (from pandas-profiling->-r requirements.txt (line 2)) (0.1.12)\n",
      "Requirement already satisfied: phik<0.13,>=0.11.1 in c:\\users\\alex shalaev\\appdata\\local\\programs\\python\\python39\\lib\\site-packages (from pandas-profiling->-r requirements.txt (line 2)) (0.12.3)\n",
      "Requirement already satisfied: multimethod<1.10,>=1.4 in c:\\users\\alex shalaev\\appdata\\local\\programs\\python\\python39\\lib\\site-packages (from pandas-profiling->-r requirements.txt (line 2)) (1.9.1)\n",
      "Requirement already satisfied: scipy<1.10,>=1.4.1 in c:\\users\\alex shalaev\\appdata\\local\\programs\\python\\python39\\lib\\site-packages (from pandas-profiling->-r requirements.txt (line 2)) (1.7.1)\n",
      "Requirement already satisfied: attrs>=19.3.0 in c:\\users\\alex shalaev\\appdata\\local\\programs\\python\\python39\\lib\\site-packages (from visions[type_image_path]==0.7.5->pandas-profiling->-r requirements.txt (line 2)) (20.3.0)\n",
      "Requirement already satisfied: tangled-up-in-unicode>=0.0.4 in c:\\users\\alex shalaev\\appdata\\local\\programs\\python\\python39\\lib\\site-packages (from visions[type_image_path]==0.7.5->pandas-profiling->-r requirements.txt (line 2)) (0.2.0)\n",
      "Requirement already satisfied: networkx>=2.4 in c:\\users\\alex shalaev\\appdata\\local\\programs\\python\\python39\\lib\\site-packages (from visions[type_image_path]==0.7.5->pandas-profiling->-r requirements.txt (line 2)) (2.6.3)\n",
      "Requirement already satisfied: Pillow in c:\\users\\alex shalaev\\appdata\\local\\programs\\python\\python39\\lib\\site-packages (from visions[type_image_path]==0.7.5->pandas-profiling->-r requirements.txt (line 2)) (8.2.0)\n",
      "Requirement already satisfied: imagehash in c:\\users\\alex shalaev\\appdata\\local\\programs\\python\\python39\\lib\\site-packages (from visions[type_image_path]==0.7.5->pandas-profiling->-r requirements.txt (line 2)) (4.3.1)\n",
      "Requirement already satisfied: joblib>=0.11 in c:\\users\\alex shalaev\\appdata\\local\\programs\\python\\python39\\lib\\site-packages (from scikit-learn->-r requirements.txt (line 3)) (1.0.1)\n",
      "Requirement already satisfied: threadpoolctl>=2.0.0 in c:\\users\\alex shalaev\\appdata\\local\\programs\\python\\python39\\lib\\site-packages (from scikit-learn->-r requirements.txt (line 3)) (3.0.0)\n",
      "Requirement already satisfied: ipython>=6.1.0 in c:\\users\\alex shalaev\\appdata\\local\\programs\\python\\python39\\lib\\site-packages (from ipywidgets->-r requirements.txt (line 4)) (7.29.0)\n",
      "Requirement already satisfied: traitlets>=4.3.1 in c:\\users\\alex shalaev\\appdata\\local\\programs\\python\\python39\\lib\\site-packages (from ipywidgets->-r requirements.txt (line 4)) (5.1.1)\n",
      "Requirement already satisfied: jupyterlab-widgets~=3.0 in c:\\users\\alex shalaev\\appdata\\local\\programs\\python\\python39\\lib\\site-packages (from ipywidgets->-r requirements.txt (line 4)) (3.0.5)\n",
      "Requirement already satisfied: ipykernel>=4.5.1 in c:\\users\\alex shalaev\\appdata\\local\\programs\\python\\python39\\lib\\site-packages (from ipywidgets->-r requirements.txt (line 4)) (6.4.2)\n",
      "Requirement already satisfied: widgetsnbextension~=4.0 in c:\\users\\alex shalaev\\appdata\\local\\programs\\python\\python39\\lib\\site-packages (from ipywidgets->-r requirements.txt (line 4)) (4.0.5)\n",
      "Requirement already satisfied: wcwidth in c:\\users\\alex shalaev\\appdata\\local\\programs\\python\\python39\\lib\\site-packages (from prettytable->-r requirements.txt (line 6)) (0.2.5)\n",
      "Requirement already satisfied: tornado<7.0,>=4.2 in c:\\users\\alex shalaev\\appdata\\local\\programs\\python\\python39\\lib\\site-packages (from ipykernel>=4.5.1->ipywidgets->-r requirements.txt (line 4)) (6.1)\n",
      "Requirement already satisfied: matplotlib-inline<0.2.0,>=0.1.0 in c:\\users\\alex shalaev\\appdata\\local\\programs\\python\\python39\\lib\\site-packages (from ipykernel>=4.5.1->ipywidgets->-r requirements.txt (line 4)) (0.1.3)\n",
      "Requirement already satisfied: jupyter-client<8.0 in c:\\users\\alex shalaev\\appdata\\local\\programs\\python\\python39\\lib\\site-packages (from ipykernel>=4.5.1->ipywidgets->-r requirements.txt (line 4)) (7.0.6)\n",
      "Requirement already satisfied: ipython-genutils in c:\\users\\alex shalaev\\appdata\\local\\programs\\python\\python39\\lib\\site-packages (from ipykernel>=4.5.1->ipywidgets->-r requirements.txt (line 4)) (0.2.0)\n",
      "Requirement already satisfied: debugpy<2.0,>=1.0.0 in c:\\users\\alex shalaev\\appdata\\local\\programs\\python\\python39\\lib\\site-packages (from ipykernel>=4.5.1->ipywidgets->-r requirements.txt (line 4)) (1.5.1)\n",
      "Requirement already satisfied: colorama in c:\\users\\alex shalaev\\appdata\\local\\programs\\python\\python39\\lib\\site-packages (from ipython>=6.1.0->ipywidgets->-r requirements.txt (line 4)) (0.4.4)\n",
      "Requirement already satisfied: decorator in c:\\users\\alex shalaev\\appdata\\local\\programs\\python\\python39\\lib\\site-packages (from ipython>=6.1.0->ipywidgets->-r requirements.txt (line 4)) (5.1.0)\n",
      "Requirement already satisfied: jedi>=0.16 in c:\\users\\alex shalaev\\appdata\\local\\programs\\python\\python39\\lib\\site-packages (from ipython>=6.1.0->ipywidgets->-r requirements.txt (line 4)) (0.18.0)\n",
      "Requirement already satisfied: prompt-toolkit!=3.0.0,!=3.0.1,<3.1.0,>=2.0.0 in c:\\users\\alex shalaev\\appdata\\local\\programs\\python\\python39\\lib\\site-packages (from ipython>=6.1.0->ipywidgets->-r requirements.txt (line 4)) (3.0.21)\n",
      "Requirement already satisfied: pickleshare in c:\\users\\alex shalaev\\appdata\\local\\programs\\python\\python39\\lib\\site-packages (from ipython>=6.1.0->ipywidgets->-r requirements.txt (line 4)) (0.7.5)\n",
      "Requirement already satisfied: pygments in c:\\users\\alex shalaev\\appdata\\local\\programs\\python\\python39\\lib\\site-packages (from ipython>=6.1.0->ipywidgets->-r requirements.txt (line 4)) (2.10.0)\n",
      "Requirement already satisfied: backcall in c:\\users\\alex shalaev\\appdata\\local\\programs\\python\\python39\\lib\\site-packages (from ipython>=6.1.0->ipywidgets->-r requirements.txt (line 4)) (0.2.0)\n",
      "Requirement already satisfied: setuptools>=18.5 in c:\\users\\alex shalaev\\appdata\\local\\programs\\python\\python39\\lib\\site-packages (from ipython>=6.1.0->ipywidgets->-r requirements.txt (line 4)) (49.2.1)\n",
      "Requirement already satisfied: MarkupSafe>=2.0 in c:\\users\\alex shalaev\\appdata\\local\\programs\\python\\python39\\lib\\site-packages (from jinja2<3.2,>=2.11.1->pandas-profiling->-r requirements.txt (line 2)) (2.1.1)\n",
      "Requirement already satisfied: pyparsing>=2.2.1 in c:\\users\\alex shalaev\\appdata\\local\\programs\\python\\python39\\lib\\site-packages (from matplotlib<3.7,>=3.2->pandas-profiling->-r requirements.txt (line 2)) (2.4.7)\n",
      "Requirement already satisfied: cycler>=0.10 in c:\\users\\alex shalaev\\appdata\\local\\programs\\python\\python39\\lib\\site-packages (from matplotlib<3.7,>=3.2->pandas-profiling->-r requirements.txt (line 2)) (0.10.0)\n",
      "Requirement already satisfied: kiwisolver>=1.0.1 in c:\\users\\alex shalaev\\appdata\\local\\programs\\python\\python39\\lib\\site-packages (from matplotlib<3.7,>=3.2->pandas-profiling->-r requirements.txt (line 2)) (1.3.1)\n",
      "Requirement already satisfied: typing-extensions>=4.1.0 in c:\\users\\alex shalaev\\appdata\\local\\programs\\python\\python39\\lib\\site-packages (from pydantic<1.11,>=1.8.1->pandas-profiling->-r requirements.txt (line 2)) (4.4.0)\n",
      "Requirement already satisfied: six>=1.5 in c:\\users\\alex shalaev\\appdata\\local\\programs\\python\\python39\\lib\\site-packages (from python-dateutil>=2.7.3->pandas->-r requirements.txt (line 1)) (1.16.0)\n",
      "Requirement already satisfied: idna<4,>=2.5 in c:\\users\\alex shalaev\\appdata\\local\\programs\\python\\python39\\lib\\site-packages (from requests<2.29,>=2.24.0->pandas-profiling->-r requirements.txt (line 2)) (2.10)\n",
      "Requirement already satisfied: charset-normalizer~=2.0.0 in c:\\users\\alex shalaev\\appdata\\local\\programs\\python\\python39\\lib\\site-packages (from requests<2.29,>=2.24.0->pandas-profiling->-r requirements.txt (line 2)) (2.0.12)\n",
      "Requirement already satisfied: certifi>=2017.4.17 in c:\\users\\alex shalaev\\appdata\\local\\programs\\python\\python39\\lib\\site-packages (from requests<2.29,>=2.24.0->pandas-profiling->-r requirements.txt (line 2)) (2022.9.24)\n",
      "Requirement already satisfied: urllib3<1.27,>=1.21.1 in c:\\users\\alex shalaev\\appdata\\local\\programs\\python\\python39\\lib\\site-packages (from requests<2.29,>=2.24.0->pandas-profiling->-r requirements.txt (line 2)) (1.26.4)\n",
      "Requirement already satisfied: patsy>=0.5.2 in c:\\users\\alex shalaev\\appdata\\local\\programs\\python\\python39\\lib\\site-packages (from statsmodels<0.14,>=0.13.2->pandas-profiling->-r requirements.txt (line 2)) (0.5.2)\n",
      "Requirement already satisfied: packaging>=21.3 in c:\\users\\alex shalaev\\appdata\\local\\programs\\python\\python39\\lib\\site-packages (from statsmodels<0.14,>=0.13.2->pandas-profiling->-r requirements.txt (line 2)) (21.3)\n",
      "Requirement already satisfied: parso<0.9.0,>=0.8.0 in c:\\users\\alex shalaev\\appdata\\local\\programs\\python\\python39\\lib\\site-packages (from jedi>=0.16->ipython>=6.1.0->ipywidgets->-r requirements.txt (line 4)) (0.8.2)\n",
      "Requirement already satisfied: jupyter-core>=4.6.0 in c:\\users\\alex shalaev\\appdata\\local\\programs\\python\\python39\\lib\\site-packages (from jupyter-client<8.0->ipykernel>=4.5.1->ipywidgets->-r requirements.txt (line 4)) (4.9.1)\n",
      "Requirement already satisfied: pyzmq>=13 in c:\\users\\alex shalaev\\appdata\\local\\programs\\python\\python39\\lib\\site-packages (from jupyter-client<8.0->ipykernel>=4.5.1->ipywidgets->-r requirements.txt (line 4)) (22.3.0)\n",
      "Requirement already satisfied: entrypoints in c:\\users\\alex shalaev\\appdata\\local\\programs\\python\\python39\\lib\\site-packages (from jupyter-client<8.0->ipykernel>=4.5.1->ipywidgets->-r requirements.txt (line 4)) (0.3)\n",
      "Requirement already satisfied: nest-asyncio>=1.5 in c:\\users\\alex shalaev\\appdata\\local\\programs\\python\\python39\\lib\\site-packages (from jupyter-client<8.0->ipykernel>=4.5.1->ipywidgets->-r requirements.txt (line 4)) (1.5.1)\n",
      "Requirement already satisfied: PyWavelets in c:\\users\\alex shalaev\\appdata\\local\\programs\\python\\python39\\lib\\site-packages (from imagehash->visions[type_image_path]==0.7.5->pandas-profiling->-r requirements.txt (line 2)) (1.4.1)\n",
      "Requirement already satisfied: pywin32>=1.0 in c:\\users\\alex shalaev\\appdata\\local\\programs\\python\\python39\\lib\\site-packages (from jupyter-core>=4.6.0->jupyter-client<8.0->ipykernel>=4.5.1->ipywidgets->-r requirements.txt (line 4)) (301)\n",
      "<class 'pandas.core.frame.DataFrame'>\n",
      "RangeIndex: 10841 entries, 0 to 10840\n",
      "Data columns (total 13 columns):\n",
      " #   Column          Non-Null Count  Dtype  \n",
      "---  ------          --------------  -----  \n",
      " 0   App             10841 non-null  object \n",
      " 1   Category        10841 non-null  object \n",
      " 2   Rating          9367 non-null   float64\n",
      " 3   Reviews         10841 non-null  object \n",
      " 4   Size            10841 non-null  object \n",
      " 5   Installs        10841 non-null  object \n",
      " 6   Type            10840 non-null  object \n",
      " 7   Price           10841 non-null  object \n",
      " 8   Content Rating  10840 non-null  object \n",
      " 9   Genres          10841 non-null  object \n",
      " 10  Last Updated    10841 non-null  object \n",
      " 11  Current Ver     10833 non-null  object \n",
      " 12  Android Ver     10838 non-null  object \n",
      "dtypes: float64(1), object(12)\n",
      "memory usage: 1.1+ MB\n"
     ]
    },
    {
     "name": "stderr",
     "output_type": "stream",
     "text": [
      "WARNING: Ignoring invalid distribution -umpy (c:\\users\\alex shalaev\\appdata\\local\\programs\\python\\python39\\lib\\site-packages)\n",
      "WARNING: Ignoring invalid distribution -umpy (c:\\users\\alex shalaev\\appdata\\local\\programs\\python\\python39\\lib\\site-packages)\n",
      "WARNING: Ignoring invalid distribution -umpy (c:\\users\\alex shalaev\\appdata\\local\\programs\\python\\python39\\lib\\site-packages)\n",
      "WARNING: Ignoring invalid distribution -umpy (c:\\users\\alex shalaev\\appdata\\local\\programs\\python\\python39\\lib\\site-packages)\n",
      "WARNING: Ignoring invalid distribution -umpy (c:\\users\\alex shalaev\\appdata\\local\\programs\\python\\python39\\lib\\site-packages)\n",
      "WARNING: Ignoring invalid distribution -umpy (c:\\users\\alex shalaev\\appdata\\local\\programs\\python\\python39\\lib\\site-packages)\n"
     ]
    },
    {
     "name": "stdout",
     "output_type": "stream",
     "text": [
      "Stored 'df' (DataFrame)\n"
     ]
    }
   ],
   "source": [
    "%run data_exploration.ipynb"
   ]
  },
  {
   "cell_type": "markdown",
   "metadata": {},
   "source": [
    "## Подключение библиотек"
   ]
  },
  {
   "cell_type": "code",
   "execution_count": 102,
   "metadata": {},
   "outputs": [],
   "source": [
    "import numpy as np\n",
    "import pandas as pd\n",
    "import matplotlib.pyplot as plt\n",
    "from ext.utilities import *\n",
    "from ext.models import *\n",
    "import scipy as sc\n",
    "from prettytable import PrettyTable\n",
    "%store -r df"
   ]
  },
  {
   "cell_type": "code",
   "execution_count": 103,
   "metadata": {},
   "outputs": [
    {
     "data": {
      "text/html": [
       "<div>\n",
       "<style scoped>\n",
       "    .dataframe tbody tr th:only-of-type {\n",
       "        vertical-align: middle;\n",
       "    }\n",
       "\n",
       "    .dataframe tbody tr th {\n",
       "        vertical-align: top;\n",
       "    }\n",
       "\n",
       "    .dataframe thead th {\n",
       "        text-align: right;\n",
       "    }\n",
       "</style>\n",
       "<table border=\"1\" class=\"dataframe\">\n",
       "  <thead>\n",
       "    <tr style=\"text-align: right;\">\n",
       "      <th></th>\n",
       "      <th>App</th>\n",
       "      <th>Category</th>\n",
       "      <th>Rating</th>\n",
       "      <th>Reviews</th>\n",
       "      <th>Size</th>\n",
       "      <th>Installs</th>\n",
       "      <th>Type</th>\n",
       "      <th>Price</th>\n",
       "      <th>Content Rating</th>\n",
       "      <th>Genres</th>\n",
       "      <th>Last Updated</th>\n",
       "      <th>Current Ver</th>\n",
       "      <th>Android Ver</th>\n",
       "      <th>Income</th>\n",
       "      <th>Grade</th>\n",
       "      <th>Season</th>\n",
       "    </tr>\n",
       "  </thead>\n",
       "  <tbody>\n",
       "    <tr>\n",
       "      <th>0</th>\n",
       "      <td>Photo Editor &amp; Candy Camera &amp; Grid &amp; ScrapBook</td>\n",
       "      <td>ART_AND_DESIGN</td>\n",
       "      <td>5</td>\n",
       "      <td>159.0</td>\n",
       "      <td>19000000.0</td>\n",
       "      <td>10000.0</td>\n",
       "      <td>Free</td>\n",
       "      <td>0.0</td>\n",
       "      <td>Everyone</td>\n",
       "      <td>Art &amp; Design</td>\n",
       "      <td>2018-01-07</td>\n",
       "      <td>1.0.0</td>\n",
       "      <td>4.0.3</td>\n",
       "      <td>0.0</td>\n",
       "      <td>7.33</td>\n",
       "      <td>winter</td>\n",
       "    </tr>\n",
       "    <tr>\n",
       "      <th>1</th>\n",
       "      <td>Coloring book moana</td>\n",
       "      <td>ART_AND_DESIGN</td>\n",
       "      <td>4</td>\n",
       "      <td>967.0</td>\n",
       "      <td>14000000.0</td>\n",
       "      <td>500000.0</td>\n",
       "      <td>Free</td>\n",
       "      <td>0.0</td>\n",
       "      <td>Everyone</td>\n",
       "      <td>Art &amp; Design;Pretend Play</td>\n",
       "      <td>2018-01-15</td>\n",
       "      <td>2.0.0</td>\n",
       "      <td>4.0.3</td>\n",
       "      <td>0.0</td>\n",
       "      <td>9.27</td>\n",
       "      <td>winter</td>\n",
       "    </tr>\n",
       "    <tr>\n",
       "      <th>2</th>\n",
       "      <td>U Launcher Lite – FREE Live Cool Themes, Hide ...</td>\n",
       "      <td>ART_AND_DESIGN</td>\n",
       "      <td>5</td>\n",
       "      <td>87510.0</td>\n",
       "      <td>8700000.0</td>\n",
       "      <td>5000000.0</td>\n",
       "      <td>Free</td>\n",
       "      <td>0.0</td>\n",
       "      <td>Everyone</td>\n",
       "      <td>Art &amp; Design</td>\n",
       "      <td>2018-08-01</td>\n",
       "      <td>1.2.4</td>\n",
       "      <td>4.0.3</td>\n",
       "      <td>0.0</td>\n",
       "      <td>8.91</td>\n",
       "      <td>summer</td>\n",
       "    </tr>\n",
       "    <tr>\n",
       "      <th>3</th>\n",
       "      <td>Sketch - Draw &amp; Paint</td>\n",
       "      <td>ART_AND_DESIGN</td>\n",
       "      <td>5</td>\n",
       "      <td>215644.0</td>\n",
       "      <td>25000000.0</td>\n",
       "      <td>50000000.0</td>\n",
       "      <td>Free</td>\n",
       "      <td>0.0</td>\n",
       "      <td>Teen</td>\n",
       "      <td>Art &amp; Design</td>\n",
       "      <td>2018-06-08</td>\n",
       "      <td></td>\n",
       "      <td>4.2</td>\n",
       "      <td>0.0</td>\n",
       "      <td>8.55</td>\n",
       "      <td>summer</td>\n",
       "    </tr>\n",
       "    <tr>\n",
       "      <th>4</th>\n",
       "      <td>Pixel Draw - Number Art Coloring Book</td>\n",
       "      <td>ART_AND_DESIGN</td>\n",
       "      <td>5</td>\n",
       "      <td>967.0</td>\n",
       "      <td>2800000.0</td>\n",
       "      <td>100000.0</td>\n",
       "      <td>Free</td>\n",
       "      <td>0.0</td>\n",
       "      <td>Everyone</td>\n",
       "      <td>Art &amp; Design;Creativity</td>\n",
       "      <td>2018-06-20</td>\n",
       "      <td>1.1</td>\n",
       "      <td>4.4</td>\n",
       "      <td>0.0</td>\n",
       "      <td>9.79</td>\n",
       "      <td>summer</td>\n",
       "    </tr>\n",
       "  </tbody>\n",
       "</table>\n",
       "</div>"
      ],
      "text/plain": [
       "                                                 App        Category  Rating  \\\n",
       "0     Photo Editor & Candy Camera & Grid & ScrapBook  ART_AND_DESIGN       5   \n",
       "1                                Coloring book moana  ART_AND_DESIGN       4   \n",
       "2  U Launcher Lite – FREE Live Cool Themes, Hide ...  ART_AND_DESIGN       5   \n",
       "3                              Sketch - Draw & Paint  ART_AND_DESIGN       5   \n",
       "4              Pixel Draw - Number Art Coloring Book  ART_AND_DESIGN       5   \n",
       "\n",
       "    Reviews        Size    Installs  Type  Price Content Rating  \\\n",
       "0     159.0  19000000.0     10000.0  Free    0.0       Everyone   \n",
       "1     967.0  14000000.0    500000.0  Free    0.0       Everyone   \n",
       "2   87510.0   8700000.0   5000000.0  Free    0.0       Everyone   \n",
       "3  215644.0  25000000.0  50000000.0  Free    0.0           Teen   \n",
       "4     967.0   2800000.0    100000.0  Free    0.0       Everyone   \n",
       "\n",
       "                      Genres Last Updated Current Ver Android Ver  Income  \\\n",
       "0               Art & Design   2018-01-07       1.0.0       4.0.3     0.0   \n",
       "1  Art & Design;Pretend Play   2018-01-15       2.0.0       4.0.3     0.0   \n",
       "2               Art & Design   2018-08-01       1.2.4       4.0.3     0.0   \n",
       "3               Art & Design   2018-06-08                     4.2     0.0   \n",
       "4    Art & Design;Creativity   2018-06-20         1.1         4.4     0.0   \n",
       "\n",
       "   Grade  Season  \n",
       "0   7.33  winter  \n",
       "1   9.27  winter  \n",
       "2   8.91  summer  \n",
       "3   8.55  summer  \n",
       "4   9.79  summer  "
      ]
     },
     "execution_count": 103,
     "metadata": {},
     "output_type": "execute_result"
    }
   ],
   "source": [
    "df.head()"
   ]
  },
  {
   "cell_type": "markdown",
   "metadata": {},
   "source": [
    "## 1. Для каждой категории программ существует сезон (промежуток времени), в который выходит (обновляется) больше всего программ"
   ]
  },
  {
   "cell_type": "code",
   "execution_count": 104,
   "metadata": {},
   "outputs": [
    {
     "data": {
      "text/html": [
       "<div>\n",
       "<style scoped>\n",
       "    .dataframe tbody tr th:only-of-type {\n",
       "        vertical-align: middle;\n",
       "    }\n",
       "\n",
       "    .dataframe tbody tr th {\n",
       "        vertical-align: top;\n",
       "    }\n",
       "\n",
       "    .dataframe thead th {\n",
       "        text-align: right;\n",
       "    }\n",
       "</style>\n",
       "<table border=\"1\" class=\"dataframe\">\n",
       "  <thead>\n",
       "    <tr style=\"text-align: right;\">\n",
       "      <th></th>\n",
       "      <th></th>\n",
       "      <th>Season</th>\n",
       "    </tr>\n",
       "    <tr>\n",
       "      <th>Category</th>\n",
       "      <th>Season</th>\n",
       "      <th></th>\n",
       "    </tr>\n",
       "  </thead>\n",
       "  <tbody>\n",
       "    <tr>\n",
       "      <th rowspan=\"5\" valign=\"top\">ART_AND_DESIGN</th>\n",
       "      <th>summer</th>\n",
       "      <td>49.0</td>\n",
       "    </tr>\n",
       "    <tr>\n",
       "      <th>spring</th>\n",
       "      <td>18.0</td>\n",
       "    </tr>\n",
       "    <tr>\n",
       "      <th>autumn</th>\n",
       "      <td>12.0</td>\n",
       "    </tr>\n",
       "    <tr>\n",
       "      <th>null</th>\n",
       "      <td>10.0</td>\n",
       "    </tr>\n",
       "    <tr>\n",
       "      <th>winter</th>\n",
       "      <td>10.0</td>\n",
       "    </tr>\n",
       "    <tr>\n",
       "      <th rowspan=\"4\" valign=\"top\">AUTO_AND_VEHICLES</th>\n",
       "      <th>summer</th>\n",
       "      <td>82.0</td>\n",
       "    </tr>\n",
       "    <tr>\n",
       "      <th>spring</th>\n",
       "      <td>12.0</td>\n",
       "    </tr>\n",
       "    <tr>\n",
       "      <th>null</th>\n",
       "      <td>4.0</td>\n",
       "    </tr>\n",
       "    <tr>\n",
       "      <th>autumn</th>\n",
       "      <td>2.0</td>\n",
       "    </tr>\n",
       "    <tr>\n",
       "      <th rowspan=\"5\" valign=\"top\">BEAUTY</th>\n",
       "      <th>summer</th>\n",
       "      <td>49.0</td>\n",
       "    </tr>\n",
       "    <tr>\n",
       "      <th>spring</th>\n",
       "      <td>24.0</td>\n",
       "    </tr>\n",
       "    <tr>\n",
       "      <th>autumn</th>\n",
       "      <td>15.0</td>\n",
       "    </tr>\n",
       "    <tr>\n",
       "      <th>winter</th>\n",
       "      <td>7.0</td>\n",
       "    </tr>\n",
       "    <tr>\n",
       "      <th>null</th>\n",
       "      <td>5.0</td>\n",
       "    </tr>\n",
       "    <tr>\n",
       "      <th rowspan=\"5\" valign=\"top\">BOOKS_AND_REFERENCE</th>\n",
       "      <th>summer</th>\n",
       "      <td>67.0</td>\n",
       "    </tr>\n",
       "    <tr>\n",
       "      <th>spring</th>\n",
       "      <td>19.0</td>\n",
       "    </tr>\n",
       "    <tr>\n",
       "      <th>null</th>\n",
       "      <td>6.0</td>\n",
       "    </tr>\n",
       "    <tr>\n",
       "      <th>autumn</th>\n",
       "      <td>4.0</td>\n",
       "    </tr>\n",
       "    <tr>\n",
       "      <th>winter</th>\n",
       "      <td>4.0</td>\n",
       "    </tr>\n",
       "    <tr>\n",
       "      <th rowspan=\"5\" valign=\"top\">BUSINESS</th>\n",
       "      <th>summer</th>\n",
       "      <td>77.0</td>\n",
       "    </tr>\n",
       "    <tr>\n",
       "      <th>spring</th>\n",
       "      <td>12.0</td>\n",
       "    </tr>\n",
       "    <tr>\n",
       "      <th>winter</th>\n",
       "      <td>6.0</td>\n",
       "    </tr>\n",
       "    <tr>\n",
       "      <th>null</th>\n",
       "      <td>4.0</td>\n",
       "    </tr>\n",
       "    <tr>\n",
       "      <th>autumn</th>\n",
       "      <td>1.0</td>\n",
       "    </tr>\n",
       "    <tr>\n",
       "      <th rowspan=\"5\" valign=\"top\">COMICS</th>\n",
       "      <th>summer</th>\n",
       "      <td>74.0</td>\n",
       "    </tr>\n",
       "    <tr>\n",
       "      <th>spring</th>\n",
       "      <td>13.0</td>\n",
       "    </tr>\n",
       "    <tr>\n",
       "      <th>null</th>\n",
       "      <td>5.0</td>\n",
       "    </tr>\n",
       "    <tr>\n",
       "      <th>winter</th>\n",
       "      <td>5.0</td>\n",
       "    </tr>\n",
       "    <tr>\n",
       "      <th>autumn</th>\n",
       "      <td>3.0</td>\n",
       "    </tr>\n",
       "    <tr>\n",
       "      <th rowspan=\"5\" valign=\"top\">COMMUNICATION</th>\n",
       "      <th>summer</th>\n",
       "      <td>83.0</td>\n",
       "    </tr>\n",
       "    <tr>\n",
       "      <th>spring</th>\n",
       "      <td>8.0</td>\n",
       "    </tr>\n",
       "    <tr>\n",
       "      <th>winter</th>\n",
       "      <td>5.0</td>\n",
       "    </tr>\n",
       "    <tr>\n",
       "      <th>autumn</th>\n",
       "      <td>3.0</td>\n",
       "    </tr>\n",
       "    <tr>\n",
       "      <th>null</th>\n",
       "      <td>1.0</td>\n",
       "    </tr>\n",
       "    <tr>\n",
       "      <th rowspan=\"5\" valign=\"top\">DATING</th>\n",
       "      <th>summer</th>\n",
       "      <td>86.0</td>\n",
       "    </tr>\n",
       "    <tr>\n",
       "      <th>winter</th>\n",
       "      <td>5.0</td>\n",
       "    </tr>\n",
       "    <tr>\n",
       "      <th>spring</th>\n",
       "      <td>5.0</td>\n",
       "    </tr>\n",
       "    <tr>\n",
       "      <th>autumn</th>\n",
       "      <td>2.0</td>\n",
       "    </tr>\n",
       "    <tr>\n",
       "      <th>null</th>\n",
       "      <td>1.0</td>\n",
       "    </tr>\n",
       "    <tr>\n",
       "      <th rowspan=\"5\" valign=\"top\">EDUCATION</th>\n",
       "      <th>summer</th>\n",
       "      <td>64.0</td>\n",
       "    </tr>\n",
       "    <tr>\n",
       "      <th>winter</th>\n",
       "      <td>14.0</td>\n",
       "    </tr>\n",
       "    <tr>\n",
       "      <th>spring</th>\n",
       "      <td>11.0</td>\n",
       "    </tr>\n",
       "    <tr>\n",
       "      <th>autumn</th>\n",
       "      <td>9.0</td>\n",
       "    </tr>\n",
       "    <tr>\n",
       "      <th>null</th>\n",
       "      <td>2.0</td>\n",
       "    </tr>\n",
       "  </tbody>\n",
       "</table>\n",
       "</div>"
      ],
      "text/plain": [
       "                            Season\n",
       "Category            Season        \n",
       "ART_AND_DESIGN      summer    49.0\n",
       "                    spring    18.0\n",
       "                    autumn    12.0\n",
       "                    null      10.0\n",
       "                    winter    10.0\n",
       "AUTO_AND_VEHICLES   summer    82.0\n",
       "                    spring    12.0\n",
       "                    null       4.0\n",
       "                    autumn     2.0\n",
       "BEAUTY              summer    49.0\n",
       "                    spring    24.0\n",
       "                    autumn    15.0\n",
       "                    winter     7.0\n",
       "                    null       5.0\n",
       "BOOKS_AND_REFERENCE summer    67.0\n",
       "                    spring    19.0\n",
       "                    null       6.0\n",
       "                    autumn     4.0\n",
       "                    winter     4.0\n",
       "BUSINESS            summer    77.0\n",
       "                    spring    12.0\n",
       "                    winter     6.0\n",
       "                    null       4.0\n",
       "                    autumn     1.0\n",
       "COMICS              summer    74.0\n",
       "                    spring    13.0\n",
       "                    null       5.0\n",
       "                    winter     5.0\n",
       "                    autumn     3.0\n",
       "COMMUNICATION       summer    83.0\n",
       "                    spring     8.0\n",
       "                    winter     5.0\n",
       "                    autumn     3.0\n",
       "                    null       1.0\n",
       "DATING              summer    86.0\n",
       "                    winter     5.0\n",
       "                    spring     5.0\n",
       "                    autumn     2.0\n",
       "                    null       1.0\n",
       "EDUCATION           summer    64.0\n",
       "                    winter    14.0\n",
       "                    spring    11.0\n",
       "                    autumn     9.0\n",
       "                    null       2.0"
      ]
     },
     "execution_count": 104,
     "metadata": {},
     "output_type": "execute_result"
    }
   ],
   "source": [
    "round(df[:800].groupby('Category')['Season'].value_counts(normalize=True).to_frame()*100)"
   ]
  },
  {
   "cell_type": "markdown",
   "metadata": {},
   "source": [
    "#### Вывод: по таблице видно, что практически все категории чаще всего обновляются летом"
   ]
  },
  {
   "cell_type": "markdown",
   "metadata": {},
   "source": [
    "## 2. Наиболее успешные приложения требуют меньше памяти, чем требуют приложения в среднем"
   ]
  },
  {
   "cell_type": "code",
   "execution_count": 105,
   "metadata": {},
   "outputs": [
    {
     "name": "stdout",
     "output_type": "stream",
     "text": [
      "APP:\t  MEDIAN  MEAN\n",
      "ALL APPS: 9200000 18150416\n",
      "BEST APPS: 4200000 4229712\n"
     ]
    }
   ],
   "source": [
    "print(\"APP:\\t  MEDIAN  MEAN\")\n",
    "median = int(df.Size.median())\n",
    "mean = int(df.Size.mean())\n",
    "print(\"ALL APPS:\", median, mean)\n",
    "top = df.sort_values(by=['Grade', 'Size'], ascending=False).head(int(df.shape[0]*0.05))\n",
    "median = int(top.Size.median())\n",
    "mean = int(top.Size.mean())\n",
    "print(\"BEST APPS:\", median, mean)"
   ]
  },
  {
   "cell_type": "markdown",
   "metadata": {},
   "source": [
    "#### Вывод: в среднем все приложения весят более 9 миллиона байт, т.е. 9 МБ, но лучшие приложения весят 4 миллиона байт, т.е. 4МБ. Значит, наше предположение верно: успешные приложения требуют меньше памяти."
   ]
  },
  {
   "cell_type": "markdown",
   "metadata": {},
   "source": [
    "## 3. Между количеством памяти, требуемой для работы приложения, и рейтингом есть сильная взаимосвязь"
   ]
  },
  {
   "cell_type": "code",
   "execution_count": 106,
   "metadata": {},
   "outputs": [
    {
     "data": {
      "text/plain": [
       "0.029522300560450805"
      ]
     },
     "execution_count": 106,
     "metadata": {},
     "output_type": "execute_result"
    }
   ],
   "source": [
    "tmp = df\n",
    "tmp['Rating'].corr(tmp['Size'])"
   ]
  },
  {
   "cell_type": "markdown",
   "metadata": {},
   "source": [
    "### Вывод: Корреляция слабая. Взаимосвязь не наблюдается."
   ]
  },
  {
   "cell_type": "markdown",
   "metadata": {},
   "source": [
    "## 4. Существует сильная взаимосвязь между минимальной версией, необходимой для работы приложения, и количеством скачиваний (чем ниже, тем больше)"
   ]
  },
  {
   "cell_type": "code",
   "execution_count": 107,
   "metadata": {},
   "outputs": [
    {
     "data": {
      "text/plain": [
       "-0.19972787309263457"
      ]
     },
     "execution_count": 107,
     "metadata": {},
     "output_type": "execute_result"
    }
   ],
   "source": [
    "tmp = df.copy()\n",
    "tmp['Android Ver'] = list(map(lambda x: -1 if pd.isna(x) or len(str(x)) == 0 else int(str(x).split('.')[0]), tmp['Android Ver']))\n",
    "tmp['Android Ver'].corr(tmp['Installs'])"
   ]
  },
  {
   "cell_type": "markdown",
   "metadata": {},
   "source": [
    "#### Вывод: Корреляция слабая. Взаимосвязь не наблюдается. TODO подробнее, типо вот мы думали чем меньше версия тем на больших устройствах можно скачать, а вприницпе в реальности не так щас уже у всех есть телефоны с более менее версиями андроид и многие игры тянут, т.е. тут больше железо важно а не ОС"
   ]
  },
  {
   "cell_type": "markdown",
   "metadata": {},
   "source": [
    "## 5. Существует версия Android, приложения для которой скачивают чаще всего"
   ]
  },
  {
   "cell_type": "code",
   "execution_count": 108,
   "metadata": {},
   "outputs": [
    {
     "name": "stdout",
     "output_type": "stream",
     "text": [
      "Installs    100000000.0\n",
      "dtype: float64\n"
     ]
    },
    {
     "data": {
      "text/html": [
       "<div>\n",
       "<style scoped>\n",
       "    .dataframe tbody tr th:only-of-type {\n",
       "        vertical-align: middle;\n",
       "    }\n",
       "\n",
       "    .dataframe tbody tr th {\n",
       "        vertical-align: top;\n",
       "    }\n",
       "\n",
       "    .dataframe thead th {\n",
       "        text-align: right;\n",
       "    }\n",
       "</style>\n",
       "<table border=\"1\" class=\"dataframe\">\n",
       "  <thead>\n",
       "    <tr style=\"text-align: right;\">\n",
       "      <th></th>\n",
       "      <th>Installs</th>\n",
       "    </tr>\n",
       "    <tr>\n",
       "      <th>Android Ver</th>\n",
       "      <th></th>\n",
       "    </tr>\n",
       "  </thead>\n",
       "  <tbody>\n",
       "    <tr>\n",
       "      <th></th>\n",
       "      <td>68456849.0</td>\n",
       "    </tr>\n",
       "    <tr>\n",
       "      <th>1.0</th>\n",
       "      <td>30000.0</td>\n",
       "    </tr>\n",
       "    <tr>\n",
       "      <th>1.5</th>\n",
       "      <td>1192086.0</td>\n",
       "    </tr>\n",
       "    <tr>\n",
       "      <th>1.6</th>\n",
       "      <td>400118.0</td>\n",
       "    </tr>\n",
       "    <tr>\n",
       "      <th>2.0</th>\n",
       "      <td>1109778.0</td>\n",
       "    </tr>\n",
       "    <tr>\n",
       "      <th>2.0.1</th>\n",
       "      <td>14438580.0</td>\n",
       "    </tr>\n",
       "    <tr>\n",
       "      <th>2.1</th>\n",
       "      <td>2354711.0</td>\n",
       "    </tr>\n",
       "    <tr>\n",
       "      <th>2.2</th>\n",
       "      <td>397919.0</td>\n",
       "    </tr>\n",
       "    <tr>\n",
       "      <th>2.27.1.1</th>\n",
       "      <td>100.0</td>\n",
       "    </tr>\n",
       "    <tr>\n",
       "      <th>2.3</th>\n",
       "      <td>4220287.0</td>\n",
       "    </tr>\n",
       "    <tr>\n",
       "      <th>2.3.3</th>\n",
       "      <td>3150543.0</td>\n",
       "    </tr>\n",
       "    <tr>\n",
       "      <th>3.0</th>\n",
       "      <td>2372677.0</td>\n",
       "    </tr>\n",
       "    <tr>\n",
       "      <th>3.1</th>\n",
       "      <td>5103700.0</td>\n",
       "    </tr>\n",
       "    <tr>\n",
       "      <th>3.2</th>\n",
       "      <td>230715.0</td>\n",
       "    </tr>\n",
       "    <tr>\n",
       "      <th>4.0</th>\n",
       "      <td>9837011.0</td>\n",
       "    </tr>\n",
       "    <tr>\n",
       "      <th>4.0.3</th>\n",
       "      <td>5013836.0</td>\n",
       "    </tr>\n",
       "    <tr>\n",
       "      <th>4.0.37.1.1</th>\n",
       "      <td>7500000.0</td>\n",
       "    </tr>\n",
       "    <tr>\n",
       "      <th>4.1</th>\n",
       "      <td>12534652.0</td>\n",
       "    </tr>\n",
       "    <tr>\n",
       "      <th>4.17.1.1</th>\n",
       "      <td>100000000.0</td>\n",
       "    </tr>\n",
       "    <tr>\n",
       "      <th>4.2</th>\n",
       "      <td>5067037.0</td>\n",
       "    </tr>\n",
       "    <tr>\n",
       "      <th>4.3</th>\n",
       "      <td>4194262.0</td>\n",
       "    </tr>\n",
       "    <tr>\n",
       "      <th>4.4</th>\n",
       "      <td>12016073.0</td>\n",
       "    </tr>\n",
       "    <tr>\n",
       "      <th>5.0</th>\n",
       "      <td>3751552.0</td>\n",
       "    </tr>\n",
       "    <tr>\n",
       "      <th>5.06.0</th>\n",
       "      <td>10000.0</td>\n",
       "    </tr>\n",
       "    <tr>\n",
       "      <th>5.07.1.1</th>\n",
       "      <td>5.0</td>\n",
       "    </tr>\n",
       "    <tr>\n",
       "      <th>5.08.0</th>\n",
       "      <td>10000000.0</td>\n",
       "    </tr>\n",
       "    <tr>\n",
       "      <th>5.1</th>\n",
       "      <td>350907.0</td>\n",
       "    </tr>\n",
       "    <tr>\n",
       "      <th>6.0</th>\n",
       "      <td>1212440.0</td>\n",
       "    </tr>\n",
       "    <tr>\n",
       "      <th>7.0</th>\n",
       "      <td>5321657.0</td>\n",
       "    </tr>\n",
       "    <tr>\n",
       "      <th>7.07.1.1</th>\n",
       "      <td>1000000.0</td>\n",
       "    </tr>\n",
       "    <tr>\n",
       "      <th>7.1</th>\n",
       "      <td>33683333.0</td>\n",
       "    </tr>\n",
       "    <tr>\n",
       "      <th>8.0</th>\n",
       "      <td>251684.0</td>\n",
       "    </tr>\n",
       "  </tbody>\n",
       "</table>\n",
       "</div>"
      ],
      "text/plain": [
       "                Installs\n",
       "Android Ver             \n",
       "              68456849.0\n",
       "1.0              30000.0\n",
       "1.5            1192086.0\n",
       "1.6             400118.0\n",
       "2.0            1109778.0\n",
       "2.0.1         14438580.0\n",
       "2.1            2354711.0\n",
       "2.2             397919.0\n",
       "2.27.1.1           100.0\n",
       "2.3            4220287.0\n",
       "2.3.3          3150543.0\n",
       "3.0            2372677.0\n",
       "3.1            5103700.0\n",
       "3.2             230715.0\n",
       "4.0            9837011.0\n",
       "4.0.3          5013836.0\n",
       "4.0.37.1.1     7500000.0\n",
       "4.1           12534652.0\n",
       "4.17.1.1     100000000.0\n",
       "4.2            5067037.0\n",
       "4.3            4194262.0\n",
       "4.4           12016073.0\n",
       "5.0            3751552.0\n",
       "5.06.0           10000.0\n",
       "5.07.1.1             5.0\n",
       "5.08.0        10000000.0\n",
       "5.1             350907.0\n",
       "6.0            1212440.0\n",
       "7.0            5321657.0\n",
       "7.07.1.1       1000000.0\n",
       "7.1           33683333.0\n",
       "8.0             251684.0"
      ]
     },
     "execution_count": 108,
     "metadata": {},
     "output_type": "execute_result"
    }
   ],
   "source": [
    "print(round(df.groupby('Android Ver')['Installs'].mean().to_frame()).max())\n",
    "round(df.groupby('Android Ver')['Installs'].mean().to_frame())"
   ]
  },
  {
   "cell_type": "markdown",
   "metadata": {},
   "source": [
    "#### Вывод: По полученному значению и таблице было найдено, что больше всего скачиваний было сделано с версии 4.17.1.1: ~100 миллионов."
   ]
  },
  {
   "cell_type": "markdown",
   "metadata": {},
   "source": [
    "## 6. В каждой из категорий цена самых успешных приложений не превышает среднюю цену по категории"
   ]
  },
  {
   "cell_type": "code",
   "execution_count": 109,
   "metadata": {},
   "outputs": [
    {
     "data": {
      "text/html": [
       "<table>\n",
       "    <thead>\n",
       "        <tr>\n",
       "            <th>CATEGORY</th>\n",
       "            <th>PRICE MEAN(ALL APPS)</th>\n",
       "            <th>PRICE MEAN(TOP 5 APPS)</th>\n",
       "        </tr>\n",
       "    </thead>\n",
       "    <tbody>\n",
       "        <tr>\n",
       "            <td>TRAVEL_AND_LOCAL</td>\n",
       "            <td>4</td>\n",
       "            <td>5</td>\n",
       "        </tr>\n",
       "        <tr>\n",
       "            <td>MEDICAL</td>\n",
       "            <td>13</td>\n",
       "            <td>19</td>\n",
       "        </tr>\n",
       "        <tr>\n",
       "            <td>COMMUNICATION</td>\n",
       "            <td>3</td>\n",
       "            <td>3</td>\n",
       "        </tr>\n",
       "        <tr>\n",
       "            <td>FAMILY</td>\n",
       "            <td>13</td>\n",
       "            <td>3</td>\n",
       "        </tr>\n",
       "        <tr>\n",
       "            <td>FOOD_AND_DRINK</td>\n",
       "            <td>4</td>\n",
       "            <td>4</td>\n",
       "        </tr>\n",
       "        <tr>\n",
       "            <td>EVENTS</td>\n",
       "            <td>110</td>\n",
       "            <td>110</td>\n",
       "        </tr>\n",
       "        <tr>\n",
       "            <td>VIDEO_PLAYERS</td>\n",
       "            <td>3</td>\n",
       "            <td>3</td>\n",
       "        </tr>\n",
       "        <tr>\n",
       "            <td>NEWS_AND_MAGAZINES</td>\n",
       "            <td>2</td>\n",
       "            <td>2</td>\n",
       "        </tr>\n",
       "        <tr>\n",
       "            <td>PRODUCTIVITY</td>\n",
       "            <td>9</td>\n",
       "            <td>4</td>\n",
       "        </tr>\n",
       "        <tr>\n",
       "            <td>PHOTOGRAPHY</td>\n",
       "            <td>6</td>\n",
       "            <td>4</td>\n",
       "        </tr>\n",
       "        <tr>\n",
       "            <td>BOOKS_AND_REFERENCE</td>\n",
       "            <td>4</td>\n",
       "            <td>3</td>\n",
       "        </tr>\n",
       "        <tr>\n",
       "            <td>MAPS_AND_NAVIGATION</td>\n",
       "            <td>5</td>\n",
       "            <td>5</td>\n",
       "        </tr>\n",
       "        <tr>\n",
       "            <td>EDUCATION</td>\n",
       "            <td>4</td>\n",
       "            <td>4</td>\n",
       "        </tr>\n",
       "        <tr>\n",
       "            <td>PERSONALIZATION</td>\n",
       "            <td>2</td>\n",
       "            <td>3</td>\n",
       "        </tr>\n",
       "        <tr>\n",
       "            <td>SHOPPING</td>\n",
       "            <td>3</td>\n",
       "            <td>3</td>\n",
       "        </tr>\n",
       "        <tr>\n",
       "            <td>GAME</td>\n",
       "            <td>3</td>\n",
       "            <td>4</td>\n",
       "        </tr>\n",
       "        <tr>\n",
       "            <td>SPORTS</td>\n",
       "            <td>4</td>\n",
       "            <td>10</td>\n",
       "        </tr>\n",
       "        <tr>\n",
       "            <td>WEATHER</td>\n",
       "            <td>4</td>\n",
       "            <td>4</td>\n",
       "        </tr>\n",
       "        <tr>\n",
       "            <td>SOCIAL</td>\n",
       "            <td>5</td>\n",
       "            <td>5</td>\n",
       "        </tr>\n",
       "        <tr>\n",
       "            <td>LIBRARIES_AND_DEMO</td>\n",
       "            <td>1</td>\n",
       "            <td>1</td>\n",
       "        </tr>\n",
       "        <tr>\n",
       "            <td>DATING</td>\n",
       "            <td>4</td>\n",
       "            <td>5</td>\n",
       "        </tr>\n",
       "        <tr>\n",
       "            <td>ENTERTAINMENT</td>\n",
       "            <td>4</td>\n",
       "            <td>4</td>\n",
       "        </tr>\n",
       "        <tr>\n",
       "            <td>ART_AND_DESIGN</td>\n",
       "            <td>2</td>\n",
       "            <td>2</td>\n",
       "        </tr>\n",
       "        <tr>\n",
       "            <td>BUSINESS</td>\n",
       "            <td>13</td>\n",
       "            <td>5</td>\n",
       "        </tr>\n",
       "        <tr>\n",
       "            <td>FINANCE</td>\n",
       "            <td>171</td>\n",
       "            <td>165</td>\n",
       "        </tr>\n",
       "        <tr>\n",
       "            <td>TOOLS</td>\n",
       "            <td>3</td>\n",
       "            <td>3</td>\n",
       "        </tr>\n",
       "        <tr>\n",
       "            <td>HEALTH_AND_FITNESS</td>\n",
       "            <td>4</td>\n",
       "            <td>3</td>\n",
       "        </tr>\n",
       "        <tr>\n",
       "            <td>PARENTING</td>\n",
       "            <td>5</td>\n",
       "            <td>5</td>\n",
       "        </tr>\n",
       "        <tr>\n",
       "            <td>AUTO_AND_VEHICLES</td>\n",
       "            <td>4</td>\n",
       "            <td>4</td>\n",
       "        </tr>\n",
       "        <tr>\n",
       "            <td>LIFESTYLE</td>\n",
       "            <td>124</td>\n",
       "            <td>222</td>\n",
       "        </tr>\n",
       "    </tbody>\n",
       "</table>"
      ],
      "text/plain": [
       "+---------------------+----------------------+------------------------+\n",
       "|       CATEGORY      | PRICE MEAN(ALL APPS) | PRICE MEAN(TOP 5 APPS) |\n",
       "+---------------------+----------------------+------------------------+\n",
       "|   TRAVEL_AND_LOCAL  |          4           |           5            |\n",
       "|       MEDICAL       |          13          |           19           |\n",
       "|    COMMUNICATION    |          3           |           3            |\n",
       "|        FAMILY       |          13          |           3            |\n",
       "|    FOOD_AND_DRINK   |          4           |           4            |\n",
       "|        EVENTS       |         110          |          110           |\n",
       "|    VIDEO_PLAYERS    |          3           |           3            |\n",
       "|  NEWS_AND_MAGAZINES |          2           |           2            |\n",
       "|     PRODUCTIVITY    |          9           |           4            |\n",
       "|     PHOTOGRAPHY     |          6           |           4            |\n",
       "| BOOKS_AND_REFERENCE |          4           |           3            |\n",
       "| MAPS_AND_NAVIGATION |          5           |           5            |\n",
       "|      EDUCATION      |          4           |           4            |\n",
       "|   PERSONALIZATION   |          2           |           3            |\n",
       "|       SHOPPING      |          3           |           3            |\n",
       "|         GAME        |          3           |           4            |\n",
       "|        SPORTS       |          4           |           10           |\n",
       "|       WEATHER       |          4           |           4            |\n",
       "|        SOCIAL       |          5           |           5            |\n",
       "|  LIBRARIES_AND_DEMO |          1           |           1            |\n",
       "|        DATING       |          4           |           5            |\n",
       "|    ENTERTAINMENT    |          4           |           4            |\n",
       "|    ART_AND_DESIGN   |          2           |           2            |\n",
       "|       BUSINESS      |          13          |           5            |\n",
       "|       FINANCE       |         171          |          165           |\n",
       "|        TOOLS        |          3           |           3            |\n",
       "|  HEALTH_AND_FITNESS |          4           |           3            |\n",
       "|      PARENTING      |          5           |           5            |\n",
       "|  AUTO_AND_VEHICLES  |          4           |           4            |\n",
       "|      LIFESTYLE      |         124          |          222           |\n",
       "+---------------------+----------------------+------------------------+"
      ]
     },
     "execution_count": 109,
     "metadata": {},
     "output_type": "execute_result"
    }
   ],
   "source": [
    "best_paid = df[df[\"Type\"] == \"Paid\"].groupby(\"Category\")\n",
    "mean_total = best_paid[\"Price\"].describe()\n",
    "best_paid = best_paid.apply(lambda x: x.sort_values(by=\"Grade\", ascending=False)[: 5])\n",
    "table = PrettyTable()\n",
    "table.field_names = [\"CATEGORY\", \"PRICE MEAN(ALL APPS)\", \"PRICE MEAN(TOP 5 APPS)\"]\n",
    "for category in set(best_paid[\"Category\"]):\n",
    "    table.add_row([category, round(mean_total.loc[category]['mean']), round(best_paid.loc[category]['Price'].mean())])\n",
    "table"
   ]
  },
  {
   "cell_type": "markdown",
   "metadata": {},
   "source": [
    "#### Вывод: гипотеза ошибочна (предположение неверно, например, для категорий MEDICAL и LIFESTYLE)."
   ]
  },
  {
   "cell_type": "markdown",
   "metadata": {},
   "source": [
    "## 7. Популярные программы много обновляются (имеют много версий)"
   ]
  },
  {
   "cell_type": "code",
   "execution_count": 110,
   "metadata": {},
   "outputs": [
    {
     "name": "stdout",
     "output_type": "stream",
     "text": [
      "APP: MEDIAN MEAN\n",
      "ALL APPS: 2 3\n",
      "BEST APPS: 2 5\n"
     ]
    }
   ],
   "source": [
    "def cur_ver(x):\n",
    "    try:\n",
    "        return int(str(x).split('.')[0])%100\n",
    "    except:\n",
    "        return None\n",
    "\n",
    "    \n",
    "    \n",
    "tmp = df.copy()\n",
    "tmp['Current Ver'] = list(map(cur_ver, tmp['Current Ver']))\n",
    "print(\"APP: MEDIAN MEAN\")\n",
    "median = int(tmp['Current Ver'].median())\n",
    "mean = int(tmp['Current Ver'].mean())\n",
    "print(\"ALL APPS:\", median, mean)\n",
    "top = tmp.sort_values(by=['Grade', 'Size'], ascending=False).head(int(df.shape[0]*0.05))\n",
    "median = int(top['Current Ver'].median())\n",
    "mean = int(top['Current Ver'].mean())\n",
    "print(\"BEST APPS:\", median, mean)"
   ]
  },
  {
   "cell_type": "markdown",
   "metadata": {},
   "source": [
    "#### Вывод: в среднем количество обновлений успешных приложений не сильно отличается от количества обновлений всех приложений."
   ]
  },
  {
   "cell_type": "markdown",
   "metadata": {},
   "source": [
    "## 8. Между рейтингом и количеством скачиваний существует сильная взаимосвязь"
   ]
  },
  {
   "cell_type": "code",
   "execution_count": 111,
   "metadata": {},
   "outputs": [
    {
     "data": {
      "text/plain": [
       "0.059019821960718144"
      ]
     },
     "execution_count": 111,
     "metadata": {},
     "output_type": "execute_result"
    }
   ],
   "source": [
    "df['Rating'].corr(df['Installs'])"
   ]
  },
  {
   "cell_type": "markdown",
   "metadata": {},
   "source": [
    "#### Вывод: Корреляция слабая. Взаимосвязь не наблюдается. TODO подробнее, типо вот рейтингг это лишь оценка каждого пользователя, и рейтинг может большим при 5 отзывах и маленьким при 100"
   ]
  },
  {
   "cell_type": "markdown",
   "metadata": {},
   "source": [
    "## 9. Потребители готовы заплатить одинаковую сумму за программу в каждой из категорий"
   ]
  },
  {
   "cell_type": "code",
   "execution_count": 112,
   "metadata": {},
   "outputs": [
    {
     "data": {
      "text/html": [
       "<table>\n",
       "    <thead>\n",
       "        <tr>\n",
       "            <th>CATEGORY</th>\n",
       "            <th>PRICE MEAN</th>\n",
       "            <th>PRICE MODE</th>\n",
       "            <th>PRICE MEDIAN</th>\n",
       "        </tr>\n",
       "    </thead>\n",
       "    <tbody>\n",
       "        <tr>\n",
       "            <td>ART_AND_DESIGN</td>\n",
       "            <td>2</td>\n",
       "            <td>[1.99]</td>\n",
       "            <td>2</td>\n",
       "        </tr>\n",
       "        <tr>\n",
       "            <td>AUTO_AND_VEHICLES</td>\n",
       "            <td>4</td>\n",
       "            <td>[1.49, 1.99, 9.99]</td>\n",
       "            <td>2</td>\n",
       "        </tr>\n",
       "        <tr>\n",
       "            <td>BOOKS_AND_REFERENCE</td>\n",
       "            <td>3</td>\n",
       "            <td>[0.99]</td>\n",
       "            <td>3</td>\n",
       "        </tr>\n",
       "        <tr>\n",
       "            <td>BUSINESS</td>\n",
       "            <td>8</td>\n",
       "            <td>[4.99]</td>\n",
       "            <td>5</td>\n",
       "        </tr>\n",
       "        <tr>\n",
       "            <td>COMMUNICATION</td>\n",
       "            <td>3</td>\n",
       "            <td>[2.99]</td>\n",
       "            <td>3</td>\n",
       "        </tr>\n",
       "        <tr>\n",
       "            <td>DATING</td>\n",
       "            <td>4</td>\n",
       "            <td>[3.99]</td>\n",
       "            <td>4</td>\n",
       "        </tr>\n",
       "        <tr>\n",
       "            <td>EDUCATION</td>\n",
       "            <td>4</td>\n",
       "            <td>[3.99]</td>\n",
       "            <td>4</td>\n",
       "        </tr>\n",
       "        <tr>\n",
       "            <td>ENTERTAINMENT</td>\n",
       "            <td>4</td>\n",
       "            <td>[2.99, 4.99]</td>\n",
       "            <td>4</td>\n",
       "        </tr>\n",
       "        <tr>\n",
       "            <td>EVENTS</td>\n",
       "            <td>110</td>\n",
       "            <td>[109.99]</td>\n",
       "            <td>110</td>\n",
       "        </tr>\n",
       "        <tr>\n",
       "            <td>FAMILY</td>\n",
       "            <td>3</td>\n",
       "            <td>[0.99]</td>\n",
       "            <td>3</td>\n",
       "        </tr>\n",
       "        <tr>\n",
       "            <td>FINANCE</td>\n",
       "            <td>243</td>\n",
       "            <td>[399.99]</td>\n",
       "            <td>400</td>\n",
       "        </tr>\n",
       "        <tr>\n",
       "            <td>FOOD_AND_DRINK</td>\n",
       "            <td>4</td>\n",
       "            <td>[3.49, 4.99]</td>\n",
       "            <td>4</td>\n",
       "        </tr>\n",
       "        <tr>\n",
       "            <td>GAME</td>\n",
       "            <td>2</td>\n",
       "            <td>[0.99]</td>\n",
       "            <td>1</td>\n",
       "        </tr>\n",
       "        <tr>\n",
       "            <td>HEALTH_AND_FITNESS</td>\n",
       "            <td>3</td>\n",
       "            <td>[2.99]</td>\n",
       "            <td>3</td>\n",
       "        </tr>\n",
       "        <tr>\n",
       "            <td>LIBRARIES_AND_DEMO</td>\n",
       "            <td>1</td>\n",
       "            <td>[0.99]</td>\n",
       "            <td>1</td>\n",
       "        </tr>\n",
       "        <tr>\n",
       "            <td>LIFESTYLE</td>\n",
       "            <td>152</td>\n",
       "            <td>[399.99]</td>\n",
       "            <td>7</td>\n",
       "        </tr>\n",
       "        <tr>\n",
       "            <td>MAPS_AND_NAVIGATION</td>\n",
       "            <td>5</td>\n",
       "            <td>[0.99]</td>\n",
       "            <td>3</td>\n",
       "        </tr>\n",
       "        <tr>\n",
       "            <td>MEDICAL</td>\n",
       "            <td>15</td>\n",
       "            <td>[24.99]</td>\n",
       "            <td>12</td>\n",
       "        </tr>\n",
       "        <tr>\n",
       "            <td>NEWS_AND_MAGAZINES</td>\n",
       "            <td>2</td>\n",
       "            <td>[0.99, 2.99]</td>\n",
       "            <td>2</td>\n",
       "        </tr>\n",
       "        <tr>\n",
       "            <td>PARENTING</td>\n",
       "            <td>5</td>\n",
       "            <td>[4.59, 4.99]</td>\n",
       "            <td>5</td>\n",
       "        </tr>\n",
       "        <tr>\n",
       "            <td>PERSONALIZATION</td>\n",
       "            <td>2</td>\n",
       "            <td>[0.99, 2.49]</td>\n",
       "            <td>2</td>\n",
       "        </tr>\n",
       "        <tr>\n",
       "            <td>PHOTOGRAPHY</td>\n",
       "            <td>4</td>\n",
       "            <td>[5.99]</td>\n",
       "            <td>4</td>\n",
       "        </tr>\n",
       "        <tr>\n",
       "            <td>PRODUCTIVITY</td>\n",
       "            <td>5</td>\n",
       "            <td>[2.99]</td>\n",
       "            <td>4</td>\n",
       "        </tr>\n",
       "        <tr>\n",
       "            <td>SHOPPING</td>\n",
       "            <td>3</td>\n",
       "            <td>[2.49, 2.99]</td>\n",
       "            <td>3</td>\n",
       "        </tr>\n",
       "        <tr>\n",
       "            <td>SOCIAL</td>\n",
       "            <td>5</td>\n",
       "            <td>[0.99]</td>\n",
       "            <td>1</td>\n",
       "        </tr>\n",
       "        <tr>\n",
       "            <td>SPORTS</td>\n",
       "            <td>6</td>\n",
       "            <td>[1.99]</td>\n",
       "            <td>2</td>\n",
       "        </tr>\n",
       "        <tr>\n",
       "            <td>TOOLS</td>\n",
       "            <td>3</td>\n",
       "            <td>[2.99]</td>\n",
       "            <td>3</td>\n",
       "        </tr>\n",
       "        <tr>\n",
       "            <td>TRAVEL_AND_LOCAL</td>\n",
       "            <td>4</td>\n",
       "            <td>[1.99]</td>\n",
       "            <td>3</td>\n",
       "        </tr>\n",
       "        <tr>\n",
       "            <td>VIDEO_PLAYERS</td>\n",
       "            <td>3</td>\n",
       "            <td>[0.99, 1.49, 1.99, 5.99]</td>\n",
       "            <td>2</td>\n",
       "        </tr>\n",
       "        <tr>\n",
       "            <td>WEATHER</td>\n",
       "            <td>4</td>\n",
       "            <td>[2.99]</td>\n",
       "            <td>3</td>\n",
       "        </tr>\n",
       "    </tbody>\n",
       "</table>"
      ],
      "text/plain": [
       "+---------------------+------------+--------------------------+--------------+\n",
       "|       CATEGORY      | PRICE MEAN |        PRICE MODE        | PRICE MEDIAN |\n",
       "+---------------------+------------+--------------------------+--------------+\n",
       "|    ART_AND_DESIGN   |     2      |          [1.99]          |      2       |\n",
       "|  AUTO_AND_VEHICLES  |     4      |    [1.49, 1.99, 9.99]    |      2       |\n",
       "| BOOKS_AND_REFERENCE |     3      |          [0.99]          |      3       |\n",
       "|       BUSINESS      |     8      |          [4.99]          |      5       |\n",
       "|    COMMUNICATION    |     3      |          [2.99]          |      3       |\n",
       "|        DATING       |     4      |          [3.99]          |      4       |\n",
       "|      EDUCATION      |     4      |          [3.99]          |      4       |\n",
       "|    ENTERTAINMENT    |     4      |       [2.99, 4.99]       |      4       |\n",
       "|        EVENTS       |    110     |         [109.99]         |     110      |\n",
       "|        FAMILY       |     3      |          [0.99]          |      3       |\n",
       "|       FINANCE       |    243     |         [399.99]         |     400      |\n",
       "|    FOOD_AND_DRINK   |     4      |       [3.49, 4.99]       |      4       |\n",
       "|         GAME        |     2      |          [0.99]          |      1       |\n",
       "|  HEALTH_AND_FITNESS |     3      |          [2.99]          |      3       |\n",
       "|  LIBRARIES_AND_DEMO |     1      |          [0.99]          |      1       |\n",
       "|      LIFESTYLE      |    152     |         [399.99]         |      7       |\n",
       "| MAPS_AND_NAVIGATION |     5      |          [0.99]          |      3       |\n",
       "|       MEDICAL       |     15     |         [24.99]          |      12      |\n",
       "|  NEWS_AND_MAGAZINES |     2      |       [0.99, 2.99]       |      2       |\n",
       "|      PARENTING      |     5      |       [4.59, 4.99]       |      5       |\n",
       "|   PERSONALIZATION   |     2      |       [0.99, 2.49]       |      2       |\n",
       "|     PHOTOGRAPHY     |     4      |          [5.99]          |      4       |\n",
       "|     PRODUCTIVITY    |     5      |          [2.99]          |      4       |\n",
       "|       SHOPPING      |     3      |       [2.49, 2.99]       |      3       |\n",
       "|        SOCIAL       |     5      |          [0.99]          |      1       |\n",
       "|        SPORTS       |     6      |          [1.99]          |      2       |\n",
       "|        TOOLS        |     3      |          [2.99]          |      3       |\n",
       "|   TRAVEL_AND_LOCAL  |     4      |          [1.99]          |      3       |\n",
       "|    VIDEO_PLAYERS    |     3      | [0.99, 1.49, 1.99, 5.99] |      2       |\n",
       "|       WEATHER       |     4      |          [2.99]          |      3       |\n",
       "+---------------------+------------+--------------------------+--------------+"
      ]
     },
     "execution_count": 112,
     "metadata": {},
     "output_type": "execute_result"
    }
   ],
   "source": [
    "best_paid = df[df[\"Type\"] == \"Paid\"].groupby(\"Category\")\n",
    "# Получаем категории\n",
    "categories = best_paid.groups.keys()\n",
    "best_paid = best_paid.apply(lambda x: x.sort_values(by=\"Installs\", ascending=False)[: 10])\n",
    "table = PrettyTable()\n",
    "table.field_names = [\"CATEGORY\", \"PRICE MEAN\", \"PRICE MODE\", \"PRICE MEDIAN\"]\n",
    "for category in categories:\n",
    "    data = best_paid.loc[category]\n",
    "    table.add_row([category, round(data['Price'].mean()), list(data['Price'].mode()), round(data['Price'].median())])\n",
    "table"
   ]
  },
  {
   "cell_type": "markdown",
   "metadata": {},
   "source": [
    "#### Вывод: гипотеза неверна, для разных категорий средняя цена часто скачиваемой программы различна."
   ]
  },
  {
   "cell_type": "markdown",
   "metadata": {},
   "source": [
    "##  10. Между ценой и рейтингом существует сильная взаимосвязь"
   ]
  },
  {
   "cell_type": "code",
   "execution_count": 113,
   "metadata": {},
   "outputs": [
    {
     "data": {
      "text/plain": [
       "-0.020692841983587933"
      ]
     },
     "execution_count": 113,
     "metadata": {},
     "output_type": "execute_result"
    }
   ],
   "source": [
    "df['Rating'].corr(df['Price'])"
   ]
  },
  {
   "cell_type": "markdown",
   "metadata": {},
   "source": [
    "#### Вывод: Корреляция слабая. Взаимосвязь не наблюдается. TODO подробнее, типо вот цена не зависит от рейтинга, т.к. рейтинг не явл полноценным пок-ем "
   ]
  },
  {
   "cell_type": "markdown",
   "metadata": {},
   "source": [
    "## Графики"
   ]
  },
  {
   "cell_type": "markdown",
   "metadata": {},
   "source": [
    "### Cтолбиковая диаграмма с группировкой \"Возрастное ограничение и рейтинги\""
   ]
  },
  {
   "cell_type": "code",
   "execution_count": 114,
   "metadata": {},
   "outputs": [
    {
     "data": {
      "text/plain": [
       "<AxesSubplot:title={'center':'Возрастное ограничение и рейтинги'}, xlabel='Рейтинг', ylabel='Число воз-ых ограничений'>"
      ]
     },
     "execution_count": 114,
     "metadata": {},
     "output_type": "execute_result"
    },
    {
     "data": {
      "image/png": "[encoded data removed]",
      "text/plain": [
       "<Figure size 432x288 with 1 Axes>"
      ]
     },
     "metadata": {
      "needs_background": "light"
     },
     "output_type": "display_data"
    }
   ],
   "source": [
    "df.groupby(['Rating'])['Content Rating'].value_counts().unstack().plot(kind='bar', title = 'Возрастное ограничение и рейтинги', xlabel='Рейтинг', ylabel='Число воз-ых ограничений')"
   ]
  },
  {
   "cell_type": "markdown",
   "metadata": {},
   "source": [
    "#### Вывод: Независимо от рейтинга, возрастное ограничение \"Everyone\" является самым популярным, следующее за ним - \"Teen\""
   ]
  },
  {
   "cell_type": "markdown",
   "metadata": {},
   "source": [
    "### Круговая диаграмма \"Категории приложений\""
   ]
  },
  {
   "cell_type": "code",
   "execution_count": 115,
   "metadata": {},
   "outputs": [
    {
     "data": {
      "text/plain": [
       "<AxesSubplot:title={'center':'Категории приложений'}, ylabel='None'>"
      ]
     },
     "execution_count": 115,
     "metadata": {},
     "output_type": "execute_result"
    },
    {
     "data": {
      "image/png": "[encoded data removed]",
      "text/plain": [
       "<Figure size 432x288 with 1 Axes>"
      ]
     },
     "metadata": {},
     "output_type": "display_data"
    }
   ],
   "source": [
    "df.groupby('Category').size().plot(kind='pie', title = 'Категории приложений')"
   ]
  },
  {
   "cell_type": "markdown",
   "metadata": {},
   "source": [
    "#### Вывод: из графика видно, что самая популярная категория -> FAMILY"
   ]
  },
  {
   "cell_type": "markdown",
   "metadata": {},
   "source": [
    "### Столбиковая диаграмма с накоплением \"Времена года обновления приложений\""
   ]
  },
  {
   "cell_type": "code",
   "execution_count": 116,
   "metadata": {},
   "outputs": [
    {
     "data": {
      "text/plain": [
       "<AxesSubplot:title={'center':'Времена года обновления приложений'}, xlabel='Сезон обновления', ylabel='Кол-во приложений'>"
      ]
     },
     "execution_count": 116,
     "metadata": {},
     "output_type": "execute_result"
    },
    {
     "data": {
      "image/png": "[encoded data removed]",
      "text/plain": [
       "<Figure size 432x288 with 1 Axes>"
      ]
     },
     "metadata": {
      "needs_background": "light"
     },
     "output_type": "display_data"
    }
   ],
   "source": [
    "df.dropna().groupby(['Season'])['Type'].value_counts().unstack().plot(kind='bar', stacked=True, title = 'Времена года обновления приложений', xlabel='Сезон обновления', ylabel='Кол-во приложений')"
   ]
  },
  {
   "cell_type": "markdown",
   "metadata": {},
   "source": [
    "#### Вывод: Приложения равномерно обновляются осенью, зимой и весной, а вот Летом происходит скачок"
   ]
  },
  {
   "cell_type": "markdown",
   "metadata": {},
   "source": [
    "### Гистограмма по переменной Grade"
   ]
  },
  {
   "cell_type": "code",
   "execution_count": 117,
   "metadata": {},
   "outputs": [
    {
     "data": {
      "text/plain": [
       "<AxesSubplot:>"
      ]
     },
     "execution_count": 117,
     "metadata": {},
     "output_type": "execute_result"
    },
    {
     "data": {
      "image/png": "[encoded data removed]",
      "text/plain": [
       "<Figure size 432x288 with 1 Axes>"
      ]
     },
     "metadata": {
      "needs_background": "light"
     },
     "output_type": "display_data"
    }
   ],
   "source": [
    "df.Grade.hist(bins=50)"
   ]
  },
  {
   "cell_type": "markdown",
   "metadata": {},
   "source": [
    "#### Вывод: Хорошие приложения имеют оценку в диапазоне от 8 до 10"
   ]
  },
  {
   "cell_type": "markdown",
   "metadata": {},
   "source": [
    "### Ящичковая диаграмма \"Размеры приложений\""
   ]
  },
  {
   "cell_type": "code",
   "execution_count": 118,
   "metadata": {},
   "outputs": [
    {
     "data": {
      "text/plain": [
       "<AxesSubplot:>"
      ]
     },
     "execution_count": 118,
     "metadata": {},
     "output_type": "execute_result"
    },
    {
     "data": {
      "image/png": "[encoded data removed]",
      "text/plain": [
       "<Figure size 432x288 with 1 Axes>"
      ]
     },
     "metadata": {
      "needs_background": "light"
     },
     "output_type": "display_data"
    }
   ],
   "source": [
    "df.boxplot(column='Size')"
   ]
  },
  {
   "cell_type": "markdown",
   "metadata": {},
   "source": [
    "#### Вывод: TODO я хз что"
   ]
  },
  {
   "cell_type": "code",
   "execution_count": null,
   "metadata": {},
   "outputs": [],
   "source": []
  }
 ],
 "metadata": {
  "kernelspec": {
   "display_name": "Python 3 (ipykernel)",
   "language": "python",
   "name": "python3"
  },
  "language_info": {
   "codemirror_mode": {
    "name": "ipython",
    "version": 3
   },
   "file_extension": ".py",
   "mimetype": "text/x-python",
   "name": "python",
   "nbconvert_exporter": "python",
   "pygments_lexer": "ipython3",
   "version": "3.9.0"
  }
 },
 "nbformat": 4,
 "nbformat_minor": 1
}
