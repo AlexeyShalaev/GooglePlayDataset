{
 "cells": [
  {
   "cell_type": "markdown",
   "source": [
    "# Исследование"
   ],
   "metadata": {
    "collapsed": false,
    "pycharm": {
     "name": "#%% md\n"
    }
   }
  },
  {
   "cell_type": "markdown",
   "source": [
    "## Цель и задачи исследования"
   ],
   "metadata": {
    "collapsed": false,
    "pycharm": {
     "name": "#%% md\n"
    }
   }
  },
  {
   "cell_type": "markdown",
   "source": [
    "На основании собранных данных выявить требования к приложению, соответствие которым увеличило бы шансы успеха (как коммерческого, так и успеха у пользователей) приложения"
   ],
   "metadata": {
    "collapsed": false,
    "pycharm": {
     "name": "#%% md\n"
    }
   }
  },
  {
   "cell_type": "markdown",
   "source": [
    "## Гипотезы"
   ],
   "metadata": {
    "collapsed": false,
    "pycharm": {
     "name": "#%% md\n"
    }
   }
  },
  {
   "cell_type": "markdown",
   "source": [
    "1.\t**Для каждой категории программ существует сезон (промежуток времени), в который выходит (обновляется) больше всего программ**\n",
    "* ***Переменные***\n",
    "    * Last updated: исходная переменная\n",
    "    * Сезон: переменная исследования\n",
    "    * Category: переменная группировки\n",
    "* ***Метод анализа данных***\n",
    "    Построение частотной таблицы по переменным Category и Season (обоснование – частотная таблица идеально подходит для случаев, когда необходимо для наблюдений по одной переменной определить процентное соотношение значений другой переменной)\n",
    ">\n",
    "2.\t**Наиболее успешные приложения требуют меньше памяти, чем требуют приложения в среднем**\n",
    "* ***Переменные***\n",
    "    * Rating и Installs: на основе этих двух показателей легко судить об успешности приложения: чем больше скачиваний и выше рейтинг – тем лучше\n",
    "    * Grade: переменная создана в data_exploration.ipynb\n",
    "    * Size: переменная исследования\n",
    "* ***Метод анализа данных***\n",
    "    Cортировка данных по переменной Grade и анализ значений переменной Size – это самый быстрый и простой способ\n",
    ">\n",
    "3.\t**Между кол-вом памяти, требуемой для работы приложения, и рейтингом есть сильная взаимосвязь**\n",
    "* ***Переменные***\n",
    "    * Size: исходная переменная\n",
    "    * Rating: исходная переменная\n",
    "* ***Метод анализа данных***\n",
    "    Посчитать корреляцию: переменная исследования\n",
    ">\n",
    "4.\t**Существует сильная взаимосвязь между минимальной версией, необходимой для работы приложения, и количеством скачиваний (чем ниже, тем больше)**\n",
    "* ***Переменные***\n",
    "    * Android Ver: исходная переменная\n",
    "    * Installs: исходная переменная\n",
    "* ***Метод анализа данных***\n",
    "    Посчитать корреляцию: переменная исследования\n",
    ">\n",
    "5.\t**Существует версия Android, с которой больше всего скачивают приложения**\n",
    "* ***Переменные***\n",
    "    * Android Ver\n",
    "    * Installs\n",
    "* ***Метод анализа данных***\n",
    "    Для каждой версии Android посчитать среднее количество скачиваний программ\n",
    ">\n",
    "6.\t**В каждой из категорий цена самых успешных приложений не превышает среднюю цену по категории**\n",
    "* ***Переменные***\n",
    "    * Grade: переменная создана в data_exploration.ipynb\n",
    "    * Price: переменная исследования\n",
    "* ***Метод анализа данных***\n",
    "    Высчитать среднюю цену для каждой категории, отсортировать приложения в категориях по переменной Grade и проверить\n",
    ">\n",
    "7.\tTODO\n",
    ">\n",
    "8.\t**Между ценой и количеством скачиваний существует сильная взаимосвязь**\n",
    "* ***Переменные***\n",
    "    * Price: исходная переменная\n",
    "    * Installs: исходная переменная\n",
    "* ***Метод анализа данных***\n",
    "    Посчитать корреляцию: переменная исследования\n",
    ">\n",
    "9.\t**Потребители готовы заплатить одинаковую сумму за программу в каждой из категорий**\n",
    "* ***Переменные***\n",
    "    * Price: переменная исследования\n",
    "    * Category: исходная переменная\n",
    "    * Installs: исходная переменная\n",
    "* ***Метод анализа данных***\n",
    "    В каждой из категорий взять 10% наиболее часто скачиваемых платных программ и посчитать среднее арифметическое, моду и медиану\n",
    ">\n",
    "10.\t**Между ценой и рейтингом существует сильная взаимосвязь**\n",
    "* ***Переменные***\n",
    "    * Price: исходная переменная\n",
    "    * Rating: исходная переменная\n",
    "* ***Метод анализа данных***\n",
    "    Посчитать корреляцию: переменная исследования"
   ],
   "metadata": {
    "collapsed": false,
    "pycharm": {
     "name": "#%% md\n"
    }
   }
  },
  {
   "cell_type": "code",
   "execution_count": 1,
   "outputs": [],
   "source": [
    "import numpy\n",
    "import numpy as np\n",
    "import pandas as pd\n",
    "%store -r df"
   ],
   "metadata": {
    "collapsed": false,
    "pycharm": {
     "name": "#%%\n"
    }
   }
  },
  {
   "cell_type": "code",
   "execution_count": 2,
   "outputs": [
    {
     "data": {
      "text/plain": "                                                 App        Category  \\\n0     Photo Editor & Candy Camera & Grid & ScrapBook  ART_AND_DESIGN   \n1                                Coloring book moana  ART_AND_DESIGN   \n2  U Launcher Lite – FREE Live Cool Themes, Hide ...  ART_AND_DESIGN   \n3                              Sketch - Draw & Paint  ART_AND_DESIGN   \n4              Pixel Draw - Number Art Coloring Book  ART_AND_DESIGN   \n\n             Rating   Reviews        Size    Installs  Type  Price  \\\n0  Rating.EXCELLENT     159.0  19000000.0     10000.0  Free    0.0   \n1       Rating.GOOD     967.0  14000000.0    500000.0  Free    0.0   \n2  Rating.EXCELLENT   87510.0   8700000.0   5000000.0  Free    0.0   \n3  Rating.EXCELLENT  215644.0  25000000.0  50000000.0  Free    0.0   \n4  Rating.EXCELLENT     967.0   2800000.0    100000.0  Free    0.0   \n\n  Content Rating                     Genres Last Updated         Current Ver  \\\n0       Everyone               Art & Design   2018-01-07               1.0.0   \n1       Everyone  Art & Design;Pretend Play   2018-01-15               2.0.0   \n2       Everyone               Art & Design   2018-08-01               1.2.4   \n3           Teen               Art & Design   2018-06-08  Varies with device   \n4       Everyone    Art & Design;Creativity   2018-06-20                 1.1   \n\n  Android Ver  Income  Grade  \n0       4.0.3     0.0   7.33  \n1       4.0.3     0.0   9.27  \n2       4.0.3     0.0   8.91  \n3         4.2     0.0   8.55  \n4         4.4     0.0   9.79  ",
      "text/html": "<div>\n<style scoped>\n    .dataframe tbody tr th:only-of-type {\n        vertical-align: middle;\n    }\n\n    .dataframe tbody tr th {\n        vertical-align: top;\n    }\n\n    .dataframe thead th {\n        text-align: right;\n    }\n</style>\n<table border=\"1\" class=\"dataframe\">\n  <thead>\n    <tr style=\"text-align: right;\">\n      <th></th>\n      <th>App</th>\n      <th>Category</th>\n      <th>Rating</th>\n      <th>Reviews</th>\n      <th>Size</th>\n      <th>Installs</th>\n      <th>Type</th>\n      <th>Price</th>\n      <th>Content Rating</th>\n      <th>Genres</th>\n      <th>Last Updated</th>\n      <th>Current Ver</th>\n      <th>Android Ver</th>\n      <th>Income</th>\n      <th>Grade</th>\n    </tr>\n  </thead>\n  <tbody>\n    <tr>\n      <th>0</th>\n      <td>Photo Editor &amp; Candy Camera &amp; Grid &amp; ScrapBook</td>\n      <td>ART_AND_DESIGN</td>\n      <td>Rating.EXCELLENT</td>\n      <td>159.0</td>\n      <td>19000000.0</td>\n      <td>10000.0</td>\n      <td>Free</td>\n      <td>0.0</td>\n      <td>Everyone</td>\n      <td>Art &amp; Design</td>\n      <td>2018-01-07</td>\n      <td>1.0.0</td>\n      <td>4.0.3</td>\n      <td>0.0</td>\n      <td>7.33</td>\n    </tr>\n    <tr>\n      <th>1</th>\n      <td>Coloring book moana</td>\n      <td>ART_AND_DESIGN</td>\n      <td>Rating.GOOD</td>\n      <td>967.0</td>\n      <td>14000000.0</td>\n      <td>500000.0</td>\n      <td>Free</td>\n      <td>0.0</td>\n      <td>Everyone</td>\n      <td>Art &amp; Design;Pretend Play</td>\n      <td>2018-01-15</td>\n      <td>2.0.0</td>\n      <td>4.0.3</td>\n      <td>0.0</td>\n      <td>9.27</td>\n    </tr>\n    <tr>\n      <th>2</th>\n      <td>U Launcher Lite – FREE Live Cool Themes, Hide ...</td>\n      <td>ART_AND_DESIGN</td>\n      <td>Rating.EXCELLENT</td>\n      <td>87510.0</td>\n      <td>8700000.0</td>\n      <td>5000000.0</td>\n      <td>Free</td>\n      <td>0.0</td>\n      <td>Everyone</td>\n      <td>Art &amp; Design</td>\n      <td>2018-08-01</td>\n      <td>1.2.4</td>\n      <td>4.0.3</td>\n      <td>0.0</td>\n      <td>8.91</td>\n    </tr>\n    <tr>\n      <th>3</th>\n      <td>Sketch - Draw &amp; Paint</td>\n      <td>ART_AND_DESIGN</td>\n      <td>Rating.EXCELLENT</td>\n      <td>215644.0</td>\n      <td>25000000.0</td>\n      <td>50000000.0</td>\n      <td>Free</td>\n      <td>0.0</td>\n      <td>Teen</td>\n      <td>Art &amp; Design</td>\n      <td>2018-06-08</td>\n      <td>Varies with device</td>\n      <td>4.2</td>\n      <td>0.0</td>\n      <td>8.55</td>\n    </tr>\n    <tr>\n      <th>4</th>\n      <td>Pixel Draw - Number Art Coloring Book</td>\n      <td>ART_AND_DESIGN</td>\n      <td>Rating.EXCELLENT</td>\n      <td>967.0</td>\n      <td>2800000.0</td>\n      <td>100000.0</td>\n      <td>Free</td>\n      <td>0.0</td>\n      <td>Everyone</td>\n      <td>Art &amp; Design;Creativity</td>\n      <td>2018-06-20</td>\n      <td>1.1</td>\n      <td>4.4</td>\n      <td>0.0</td>\n      <td>9.79</td>\n    </tr>\n  </tbody>\n</table>\n</div>"
     },
     "execution_count": 2,
     "metadata": {},
     "output_type": "execute_result"
    }
   ],
   "source": [
    "df.head()"
   ],
   "metadata": {
    "collapsed": false,
    "pycharm": {
     "name": "#%%\n"
    }
   }
  },
  {
   "cell_type": "markdown",
   "source": [],
   "metadata": {
    "collapsed": false,
    "pycharm": {
     "name": "#%% md\n"
    }
   }
  }
 ],
 "metadata": {
  "kernelspec": {
   "display_name": "Python 3",
   "language": "python",
   "name": "python3"
  },
  "language_info": {
   "codemirror_mode": {
    "name": "ipython",
    "version": 2
   },
   "file_extension": ".py",
   "mimetype": "text/x-python",
   "name": "python",
   "nbconvert_exporter": "python",
   "pygments_lexer": "ipython2",
   "version": "2.7.6"
  }
 },
 "nbformat": 4,
 "nbformat_minor": 0
}