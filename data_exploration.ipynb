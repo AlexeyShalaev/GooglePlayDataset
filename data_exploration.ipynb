{
 "cells": [
  {
   "cell_type": "markdown",
   "id": "blind-birmingham",
   "metadata": {
    "pycharm": {
     "name": "#%% md\n"
    }
   },
   "source": [
    "## Подготовка"
   ]
  },
  {
   "cell_type": "markdown",
   "id": "ecological-laundry",
   "metadata": {
    "pycharm": {
     "name": "#%% md\n"
    }
   },
   "source": [
    "### Подключение библиотек"
   ]
  },
  {
   "cell_type": "code",
   "execution_count": 27,
   "id": "invisible-fault",
   "metadata": {
    "pycharm": {
     "name": "#%%\n"
    }
   },
   "outputs": [],
   "source": [
    "import numpy as np\n",
    "import pandas as pd\n",
    "from pandas_profiling import ProfileReport\n",
    "import matplotlib.pyplot as plt\n",
    "from ext.utilities import *\n",
    "from ext.models import *"
   ]
  },
  {
   "cell_type": "markdown",
   "id": "overall-cemetery",
   "metadata": {
    "pycharm": {
     "name": "#%% md\n"
    }
   },
   "source": [
    "### Загрузка набора данных"
   ]
  },
  {
   "cell_type": "code",
   "execution_count": 28,
   "id": "yellow-practice",
   "metadata": {
    "pycharm": {
     "name": "#%%\n"
    }
   },
   "outputs": [],
   "source": [
    "dataset_path = './dataset/googleplaystore.csv'\n",
    "df = pd.read_csv(dataset_path)"
   ]
  },
  {
   "cell_type": "markdown",
   "id": "expected-receipt",
   "metadata": {
    "pycharm": {
     "name": "#%% md\n"
    }
   },
   "source": [
    "### Исследование базовых данных"
   ]
  },
  {
   "cell_type": "code",
   "execution_count": 29,
   "id": "decent-amino",
   "metadata": {
    "pycharm": {
     "name": "#%%\n"
    }
   },
   "outputs": [
    {
     "data": {
      "text/plain": "                                                 App        Category  Rating  \\\n0     Photo Editor & Candy Camera & Grid & ScrapBook  ART_AND_DESIGN     4.1   \n1                                Coloring book moana  ART_AND_DESIGN     3.9   \n2  U Launcher Lite – FREE Live Cool Themes, Hide ...  ART_AND_DESIGN     4.7   \n3                              Sketch - Draw & Paint  ART_AND_DESIGN     4.5   \n4              Pixel Draw - Number Art Coloring Book  ART_AND_DESIGN     4.3   \n\n  Reviews  Size     Installs  Type Price Content Rating  \\\n0     159   19M      10,000+  Free     0       Everyone   \n1     967   14M     500,000+  Free     0       Everyone   \n2   87510  8.7M   5,000,000+  Free     0       Everyone   \n3  215644   25M  50,000,000+  Free     0           Teen   \n4     967  2.8M     100,000+  Free     0       Everyone   \n\n                      Genres      Last Updated         Current Ver  \\\n0               Art & Design   January 7, 2018               1.0.0   \n1  Art & Design;Pretend Play  January 15, 2018               2.0.0   \n2               Art & Design    August 1, 2018               1.2.4   \n3               Art & Design      June 8, 2018  Varies with device   \n4    Art & Design;Creativity     June 20, 2018                 1.1   \n\n    Android Ver  \n0  4.0.3 and up  \n1  4.0.3 and up  \n2  4.0.3 and up  \n3    4.2 and up  \n4    4.4 and up  ",
      "text/html": "<div>\n<style scoped>\n    .dataframe tbody tr th:only-of-type {\n        vertical-align: middle;\n    }\n\n    .dataframe tbody tr th {\n        vertical-align: top;\n    }\n\n    .dataframe thead th {\n        text-align: right;\n    }\n</style>\n<table border=\"1\" class=\"dataframe\">\n  <thead>\n    <tr style=\"text-align: right;\">\n      <th></th>\n      <th>App</th>\n      <th>Category</th>\n      <th>Rating</th>\n      <th>Reviews</th>\n      <th>Size</th>\n      <th>Installs</th>\n      <th>Type</th>\n      <th>Price</th>\n      <th>Content Rating</th>\n      <th>Genres</th>\n      <th>Last Updated</th>\n      <th>Current Ver</th>\n      <th>Android Ver</th>\n    </tr>\n  </thead>\n  <tbody>\n    <tr>\n      <th>0</th>\n      <td>Photo Editor &amp; Candy Camera &amp; Grid &amp; ScrapBook</td>\n      <td>ART_AND_DESIGN</td>\n      <td>4.1</td>\n      <td>159</td>\n      <td>19M</td>\n      <td>10,000+</td>\n      <td>Free</td>\n      <td>0</td>\n      <td>Everyone</td>\n      <td>Art &amp; Design</td>\n      <td>January 7, 2018</td>\n      <td>1.0.0</td>\n      <td>4.0.3 and up</td>\n    </tr>\n    <tr>\n      <th>1</th>\n      <td>Coloring book moana</td>\n      <td>ART_AND_DESIGN</td>\n      <td>3.9</td>\n      <td>967</td>\n      <td>14M</td>\n      <td>500,000+</td>\n      <td>Free</td>\n      <td>0</td>\n      <td>Everyone</td>\n      <td>Art &amp; Design;Pretend Play</td>\n      <td>January 15, 2018</td>\n      <td>2.0.0</td>\n      <td>4.0.3 and up</td>\n    </tr>\n    <tr>\n      <th>2</th>\n      <td>U Launcher Lite – FREE Live Cool Themes, Hide ...</td>\n      <td>ART_AND_DESIGN</td>\n      <td>4.7</td>\n      <td>87510</td>\n      <td>8.7M</td>\n      <td>5,000,000+</td>\n      <td>Free</td>\n      <td>0</td>\n      <td>Everyone</td>\n      <td>Art &amp; Design</td>\n      <td>August 1, 2018</td>\n      <td>1.2.4</td>\n      <td>4.0.3 and up</td>\n    </tr>\n    <tr>\n      <th>3</th>\n      <td>Sketch - Draw &amp; Paint</td>\n      <td>ART_AND_DESIGN</td>\n      <td>4.5</td>\n      <td>215644</td>\n      <td>25M</td>\n      <td>50,000,000+</td>\n      <td>Free</td>\n      <td>0</td>\n      <td>Teen</td>\n      <td>Art &amp; Design</td>\n      <td>June 8, 2018</td>\n      <td>Varies with device</td>\n      <td>4.2 and up</td>\n    </tr>\n    <tr>\n      <th>4</th>\n      <td>Pixel Draw - Number Art Coloring Book</td>\n      <td>ART_AND_DESIGN</td>\n      <td>4.3</td>\n      <td>967</td>\n      <td>2.8M</td>\n      <td>100,000+</td>\n      <td>Free</td>\n      <td>0</td>\n      <td>Everyone</td>\n      <td>Art &amp; Design;Creativity</td>\n      <td>June 20, 2018</td>\n      <td>1.1</td>\n      <td>4.4 and up</td>\n    </tr>\n  </tbody>\n</table>\n</div>"
     },
     "execution_count": 29,
     "metadata": {},
     "output_type": "execute_result"
    }
   ],
   "source": [
    "df.head()"
   ]
  },
  {
   "cell_type": "code",
   "execution_count": 30,
   "id": "primary-institution",
   "metadata": {
    "pycharm": {
     "name": "#%%\n"
    }
   },
   "outputs": [
    {
     "name": "stdout",
     "output_type": "stream",
     "text": [
      "<class 'pandas.core.frame.DataFrame'>\n",
      "RangeIndex: 10841 entries, 0 to 10840\n",
      "Data columns (total 13 columns):\n",
      " #   Column          Non-Null Count  Dtype  \n",
      "---  ------          --------------  -----  \n",
      " 0   App             10841 non-null  object \n",
      " 1   Category        10841 non-null  object \n",
      " 2   Rating          9367 non-null   float64\n",
      " 3   Reviews         10841 non-null  object \n",
      " 4   Size            10841 non-null  object \n",
      " 5   Installs        10841 non-null  object \n",
      " 6   Type            10840 non-null  object \n",
      " 7   Price           10841 non-null  object \n",
      " 8   Content Rating  10840 non-null  object \n",
      " 9   Genres          10841 non-null  object \n",
      " 10  Last Updated    10841 non-null  object \n",
      " 11  Current Ver     10833 non-null  object \n",
      " 12  Android Ver     10838 non-null  object \n",
      "dtypes: float64(1), object(12)\n",
      "memory usage: 1.1+ MB\n"
     ]
    }
   ],
   "source": [
    "df.info()"
   ]
  },
  {
   "cell_type": "code",
   "execution_count": 31,
   "id": "falling-supervision",
   "metadata": {
    "pycharm": {
     "name": "#%%\n"
    }
   },
   "outputs": [
    {
     "data": {
      "text/plain": "            Rating\ncount  9367.000000\nmean      4.193338\nstd       0.537431\nmin       1.000000\n25%       4.000000\n50%       4.300000\n75%       4.500000\nmax      19.000000",
      "text/html": "<div>\n<style scoped>\n    .dataframe tbody tr th:only-of-type {\n        vertical-align: middle;\n    }\n\n    .dataframe tbody tr th {\n        vertical-align: top;\n    }\n\n    .dataframe thead th {\n        text-align: right;\n    }\n</style>\n<table border=\"1\" class=\"dataframe\">\n  <thead>\n    <tr style=\"text-align: right;\">\n      <th></th>\n      <th>Rating</th>\n    </tr>\n  </thead>\n  <tbody>\n    <tr>\n      <th>count</th>\n      <td>9367.000000</td>\n    </tr>\n    <tr>\n      <th>mean</th>\n      <td>4.193338</td>\n    </tr>\n    <tr>\n      <th>std</th>\n      <td>0.537431</td>\n    </tr>\n    <tr>\n      <th>min</th>\n      <td>1.000000</td>\n    </tr>\n    <tr>\n      <th>25%</th>\n      <td>4.000000</td>\n    </tr>\n    <tr>\n      <th>50%</th>\n      <td>4.300000</td>\n    </tr>\n    <tr>\n      <th>75%</th>\n      <td>4.500000</td>\n    </tr>\n    <tr>\n      <th>max</th>\n      <td>19.000000</td>\n    </tr>\n  </tbody>\n</table>\n</div>"
     },
     "execution_count": 31,
     "metadata": {},
     "output_type": "execute_result"
    }
   ],
   "source": [
    "df.describe()"
   ]
  },
  {
   "cell_type": "markdown",
   "id": "smooth-romantic",
   "metadata": {
    "pycharm": {
     "name": "#%% md\n"
    }
   },
   "source": [
    "### Описание датасета\n",
    "\n",
    "    Количество строк:        10841\n",
    "    Количество столбцов:     13\n",
    "\n",
    "     НАЗВАНИЕ   |      ОПИСАНИЕ        |   ТИП ПЕРЕМЕННОЙ  |   ТИП ДАННЫХ  |   ЧИСЛО ПУСТЫХ ЗНАЧЕНИЙ\n",
    "    ------------+----------------------+-------------------+---------------+------------------------\n",
    "       App      | название приложения  |     метрическая   |    string     |        0\n",
    "                |                      |                   |               |\n",
    "     Category   | Категория, к которой |    номинальная    |    string     |        0\n",
    "                | относится приложение |                   |               |\n",
    "                |                      |                   |               |\n",
    "      Rating    | Общий рейтинг поль-  |                   |               |\n",
    "                | зователя приложения  |    метрическая    |     float     |      1474\n",
    "                |  (как при очистке)   |                   |               |\n",
    "                |                      |                   |               |\n",
    "                |  Количество отзывов  |                   |               |\n",
    "      Reviews   |     пользователей    |    метрическая    |      int      |        0\n",
    "                |      о приложении    |                   |               |\n",
    "                |                      |                   |               |\n",
    "       Size     |  Размер приложения   |   метрическая     |     string    |        0\n",
    "                |                      |                   |               |\n",
    "                | Количество пользо-   |                   |               |\n",
    "     Installs   | вательских загрузок/ |    метрическая    |     string    |        0\n",
    "                | установок приложения |                   |               |\n",
    "                |                      |                   |               |\n",
    "       Type     |     Платный или      |    номинальная    |     string    |        1\n",
    "                |      бесплатный      |                   |               |\n",
    "                |                      |                   |               |\n",
    "      Price     |        Цена          |     метрическая   |     float     |        0\n",
    "                |                      |                   |               |\n",
    "                |  Возрастная группа,  |                   |               |\n",
    "     Content    | на которую ориентиро |    номинальная    |     string    |        1\n",
    "     Rating     | вано приложение Дети |                   |               |\n",
    "                | /Зрелые 21+/Взрослый |                   |               |\n",
    "                |                      |                   |               |\n",
    "     Genres     |        Жанр          |    номинальная    |    string     |        0\n",
    "                |                      |                   |               |\n",
    "                | Дата последнего об-  |                   |               |\n",
    "    LastUpdated | новления приложения  |    метрическая    |    datetime   |        0\n",
    "                |    в Play Store      |                   |               |\n",
    "                |                      |                   |               |\n",
    "                | Текущая версия при-  |                   |               |\n",
    "    Current Ver | ложения, достпупная  |    метрическая    |     string    |        8\n",
    "                |    в Play Store      |                   |               |\n",
    "                |                      |                   |               |\n",
    "                |      Минимальная     |                   |               |\n",
    "    Android Ver |   требуемая версия   |    метрическая    |     string    |        3\n",
    "                |        Android       |                   |               |\n",
    "                |                      |                   |               |"
   ]
  },
  {
   "cell_type": "markdown",
   "id": "injured-composition",
   "metadata": {
    "pycharm": {
     "name": "#%% md\n"
    }
   },
   "source": []
  },
  {
   "cell_type": "code",
   "execution_count": 32,
   "id": "severe-defense",
   "metadata": {
    "pycharm": {
     "name": "#%%\n"
    }
   },
   "outputs": [],
   "source": [
    "#profile = ProfileReport(df, title=\"Отчет о датасете\")\n",
    "#profile"
   ]
  },
  {
   "cell_type": "markdown",
   "source": [
    "### Изменение данных"
   ],
   "metadata": {
    "collapsed": false,
    "pycharm": {
     "name": "#%% md\n"
    }
   }
  },
  {
   "cell_type": "code",
   "execution_count": 33,
   "outputs": [],
   "source": [
    "# меняем дату вида January 15, 2018 к формату python datetime\n",
    "df['Last Updated'] = list(map(parse_datetime, df['Last Updated']))"
   ],
   "metadata": {
    "collapsed": false,
    "pycharm": {
     "name": "#%%\n"
    }
   }
  },
  {
   "cell_type": "code",
   "execution_count": 34,
   "outputs": [],
   "source": [
    "# меняем число установок\n",
    "df['Installs'] = list(map(parse_float, df['Installs']))"
   ],
   "metadata": {
    "collapsed": false,
    "pycharm": {
     "name": "#%%\n"
    }
   }
  },
  {
   "cell_type": "code",
   "execution_count": 35,
   "outputs": [],
   "source": [
    "# меняем число цен\n",
    "df['Price'] = list(map(parse_float, df['Price']))"
   ],
   "metadata": {
    "collapsed": false,
    "pycharm": {
     "name": "#%%\n"
    }
   }
  },
  {
   "cell_type": "code",
   "execution_count": 36,
   "outputs": [
    {
     "data": {
      "text/plain": "0        0.0\n1        0.0\n2        0.0\n3        0.0\n4        0.0\n        ... \n10836    0.0\n10837    0.0\n10838    0.0\n10839    0.0\n10840    0.0\nName: Income, Length: 10841, dtype: float64"
     },
     "execution_count": 36,
     "metadata": {},
     "output_type": "execute_result"
    }
   ],
   "source": [
    "# столбец заработанных денег\n",
    "df['Income'] = df['Price'] * df['Installs']\n",
    "df['Income']"
   ],
   "metadata": {
    "collapsed": false,
    "pycharm": {
     "name": "#%%\n"
    }
   }
  },
  {
   "cell_type": "code",
   "execution_count": 37,
   "outputs": [],
   "source": [
    "# столбец рейтинга, переведенного из метрики в категорию модели Rating\n",
    "df['Rating'] = list(map(get_rating, df['Rating']))"
   ],
   "metadata": {
    "collapsed": false,
    "pycharm": {
     "name": "#%%\n"
    }
   }
  },
  {
   "cell_type": "code",
   "execution_count": 38,
   "outputs": [
    {
     "data": {
      "text/plain": "                                                              220  \\\nApp             104 Looking for a job - looking for a job, loo...   \nCategory                                                 BUSINESS   \nRating                                      Rating.UNSATISFACTORY   \nReviews                                                     74359   \nSize                                                          25M   \nInstalls                                                1000000.0   \nType                                                         Free   \nPrice                                                         0.0   \nContent Rating                                           Everyone   \nGenres                                                   Business   \nLast Updated                                  2018-07-27 00:00:00   \nCurrent Ver                                                1.12.5   \nAndroid Ver                                            4.0 and up   \nIncome                                                        0.0   \n\n                                  221                           222  \\\nApp                     Myanmar 2D/3D  Quick PDF Scanner + OCR FREE   \nCategory                     BUSINESS                      BUSINESS   \nRating          Rating.UNSATISFACTORY         Rating.UNSATISFACTORY   \nReviews                           822                         80805   \nSize                             3.1M            Varies with device   \nInstalls                     100000.0                     5000000.0   \nType                             Free                          Free   \nPrice                             0.0                           0.0   \nContent Rating               Everyone                      Everyone   \nGenres                       Business                      Business   \nLast Updated      2018-06-08 00:00:00           2018-02-26 00:00:00   \nCurrent Ver                       1.5            Varies with device   \nAndroid Ver              4.0.3 and up                  4.0.3 and up   \nIncome                            0.0                           0.0   \n\n                                  223                             224  \\\nApp                              sABN  ATI Cargoes and Transportation   \nCategory                     BUSINESS                        BUSINESS   \nRating          Rating.UNSATISFACTORY           Rating.UNSATISFACTORY   \nReviews                          2287                            4162   \nSize                             1.5M                            7.5M   \nInstalls                    1000000.0                        100000.0   \nType                             Free                            Free   \nPrice                             0.0                             0.0   \nContent Rating               Everyone                        Everyone   \nGenres                       Business                        Business   \nLast Updated                      NaT             2018-07-24 00:00:00   \nCurrent Ver                       4.9                           0.9.4   \nAndroid Ver                2.2 and up                    4.0.3 and up   \nIncome                            0.0                             0.0   \n\n                                  225                    226  \\\nApp                     Secure Folder             UPS Mobile   \nCategory                     BUSINESS               BUSINESS   \nRating          Rating.UNSATISFACTORY  Rating.UNSATISFACTORY   \nReviews                         14760                  23243   \nSize                             8.6M     Varies with device   \nInstalls                   50000000.0              5000000.0   \nType                             Free                   Free   \nPrice                             0.0                    0.0   \nContent Rating               Everyone               Everyone   \nGenres                       Business               Business   \nLast Updated      2018-01-31 00:00:00    2018-06-25 00:00:00   \nCurrent Ver                  1.1.07.6     Varies with device   \nAndroid Ver                7.0 and up     Varies with device   \nIncome                            0.0                    0.0   \n\n                                227  \\\nApp                  Y! Mobile menu   \nCategory                   BUSINESS   \nRating             Rating.EXCELLENT   \nReviews                           9   \nSize                           1.2M   \nInstalls                   100000.0   \nType                           Free   \nPrice                           0.0   \nContent Rating             Everyone   \nGenres                     Business   \nLast Updated    2018-04-09 00:00:00   \nCurrent Ver                   1.0.5   \nAndroid Ver              6.0 and up   \nIncome                          0.0   \n\n                                                             228  \nApp             SignEasy | Sign and Fill PDF and other Documents  \nCategory                                                BUSINESS  \nRating                                     Rating.UNSATISFACTORY  \nReviews                                                     8978  \nSize                                          Varies with device  \nInstalls                                               1000000.0  \nType                                                        Free  \nPrice                                                        0.0  \nContent Rating                                          Everyone  \nGenres                                                  Business  \nLast Updated                                 2018-07-25 00:00:00  \nCurrent Ver                                   Varies with device  \nAndroid Ver                                   Varies with device  \nIncome                                                       0.0  ",
      "text/html": "<div>\n<style scoped>\n    .dataframe tbody tr th:only-of-type {\n        vertical-align: middle;\n    }\n\n    .dataframe tbody tr th {\n        vertical-align: top;\n    }\n\n    .dataframe thead th {\n        text-align: right;\n    }\n</style>\n<table border=\"1\" class=\"dataframe\">\n  <thead>\n    <tr style=\"text-align: right;\">\n      <th></th>\n      <th>220</th>\n      <th>221</th>\n      <th>222</th>\n      <th>223</th>\n      <th>224</th>\n      <th>225</th>\n      <th>226</th>\n      <th>227</th>\n      <th>228</th>\n    </tr>\n  </thead>\n  <tbody>\n    <tr>\n      <th>App</th>\n      <td>104 Looking for a job - looking for a job, loo...</td>\n      <td>Myanmar 2D/3D</td>\n      <td>Quick PDF Scanner + OCR FREE</td>\n      <td>sABN</td>\n      <td>ATI Cargoes and Transportation</td>\n      <td>Secure Folder</td>\n      <td>UPS Mobile</td>\n      <td>Y! Mobile menu</td>\n      <td>SignEasy | Sign and Fill PDF and other Documents</td>\n    </tr>\n    <tr>\n      <th>Category</th>\n      <td>BUSINESS</td>\n      <td>BUSINESS</td>\n      <td>BUSINESS</td>\n      <td>BUSINESS</td>\n      <td>BUSINESS</td>\n      <td>BUSINESS</td>\n      <td>BUSINESS</td>\n      <td>BUSINESS</td>\n      <td>BUSINESS</td>\n    </tr>\n    <tr>\n      <th>Rating</th>\n      <td>Rating.UNSATISFACTORY</td>\n      <td>Rating.UNSATISFACTORY</td>\n      <td>Rating.UNSATISFACTORY</td>\n      <td>Rating.UNSATISFACTORY</td>\n      <td>Rating.UNSATISFACTORY</td>\n      <td>Rating.UNSATISFACTORY</td>\n      <td>Rating.UNSATISFACTORY</td>\n      <td>Rating.EXCELLENT</td>\n      <td>Rating.UNSATISFACTORY</td>\n    </tr>\n    <tr>\n      <th>Reviews</th>\n      <td>74359</td>\n      <td>822</td>\n      <td>80805</td>\n      <td>2287</td>\n      <td>4162</td>\n      <td>14760</td>\n      <td>23243</td>\n      <td>9</td>\n      <td>8978</td>\n    </tr>\n    <tr>\n      <th>Size</th>\n      <td>25M</td>\n      <td>3.1M</td>\n      <td>Varies with device</td>\n      <td>1.5M</td>\n      <td>7.5M</td>\n      <td>8.6M</td>\n      <td>Varies with device</td>\n      <td>1.2M</td>\n      <td>Varies with device</td>\n    </tr>\n    <tr>\n      <th>Installs</th>\n      <td>1000000.0</td>\n      <td>100000.0</td>\n      <td>5000000.0</td>\n      <td>1000000.0</td>\n      <td>100000.0</td>\n      <td>50000000.0</td>\n      <td>5000000.0</td>\n      <td>100000.0</td>\n      <td>1000000.0</td>\n    </tr>\n    <tr>\n      <th>Type</th>\n      <td>Free</td>\n      <td>Free</td>\n      <td>Free</td>\n      <td>Free</td>\n      <td>Free</td>\n      <td>Free</td>\n      <td>Free</td>\n      <td>Free</td>\n      <td>Free</td>\n    </tr>\n    <tr>\n      <th>Price</th>\n      <td>0.0</td>\n      <td>0.0</td>\n      <td>0.0</td>\n      <td>0.0</td>\n      <td>0.0</td>\n      <td>0.0</td>\n      <td>0.0</td>\n      <td>0.0</td>\n      <td>0.0</td>\n    </tr>\n    <tr>\n      <th>Content Rating</th>\n      <td>Everyone</td>\n      <td>Everyone</td>\n      <td>Everyone</td>\n      <td>Everyone</td>\n      <td>Everyone</td>\n      <td>Everyone</td>\n      <td>Everyone</td>\n      <td>Everyone</td>\n      <td>Everyone</td>\n    </tr>\n    <tr>\n      <th>Genres</th>\n      <td>Business</td>\n      <td>Business</td>\n      <td>Business</td>\n      <td>Business</td>\n      <td>Business</td>\n      <td>Business</td>\n      <td>Business</td>\n      <td>Business</td>\n      <td>Business</td>\n    </tr>\n    <tr>\n      <th>Last Updated</th>\n      <td>2018-07-27 00:00:00</td>\n      <td>2018-06-08 00:00:00</td>\n      <td>2018-02-26 00:00:00</td>\n      <td>NaT</td>\n      <td>2018-07-24 00:00:00</td>\n      <td>2018-01-31 00:00:00</td>\n      <td>2018-06-25 00:00:00</td>\n      <td>2018-04-09 00:00:00</td>\n      <td>2018-07-25 00:00:00</td>\n    </tr>\n    <tr>\n      <th>Current Ver</th>\n      <td>1.12.5</td>\n      <td>1.5</td>\n      <td>Varies with device</td>\n      <td>4.9</td>\n      <td>0.9.4</td>\n      <td>1.1.07.6</td>\n      <td>Varies with device</td>\n      <td>1.0.5</td>\n      <td>Varies with device</td>\n    </tr>\n    <tr>\n      <th>Android Ver</th>\n      <td>4.0 and up</td>\n      <td>4.0.3 and up</td>\n      <td>4.0.3 and up</td>\n      <td>2.2 and up</td>\n      <td>4.0.3 and up</td>\n      <td>7.0 and up</td>\n      <td>Varies with device</td>\n      <td>6.0 and up</td>\n      <td>Varies with device</td>\n    </tr>\n    <tr>\n      <th>Income</th>\n      <td>0.0</td>\n      <td>0.0</td>\n      <td>0.0</td>\n      <td>0.0</td>\n      <td>0.0</td>\n      <td>0.0</td>\n      <td>0.0</td>\n      <td>0.0</td>\n      <td>0.0</td>\n    </tr>\n  </tbody>\n</table>\n</div>"
     },
     "execution_count": 38,
     "metadata": {},
     "output_type": "execute_result"
    }
   ],
   "source": [
    "#Сформируйте срез по таблице и транспонируйте его.\n",
    "df[220:229].T"
   ],
   "metadata": {
    "collapsed": false,
    "pycharm": {
     "name": "#%%\n"
    }
   }
  },
  {
   "cell_type": "code",
   "execution_count": 39,
   "outputs": [
    {
     "data": {
      "text/plain": "      Installs Last Updated\n0      10000.0   2018-01-07\n1     500000.0   2018-01-15\n2    5000000.0   2018-08-01\n3   50000000.0   2018-06-08\n4     100000.0   2018-06-20\n5      50000.0          NaT\n6      50000.0   2018-04-26\n7    1000000.0   2018-06-14\n8    1000000.0   2017-09-20\n9      10000.0   2018-07-03\n10   1000000.0   2017-10-27\n11   1000000.0   2018-07-31\n12  10000000.0   2018-04-02\n13    100000.0   2018-06-26\n14    100000.0   2018-08-03\n15      5000.0   2018-06-06\n16    500000.0   2018-07-31\n17     10000.0   2017-11-07\n18   5000000.0   2018-08-03\n19  10000000.0   2018-07-30",
      "text/html": "<div>\n<style scoped>\n    .dataframe tbody tr th:only-of-type {\n        vertical-align: middle;\n    }\n\n    .dataframe tbody tr th {\n        vertical-align: top;\n    }\n\n    .dataframe thead th {\n        text-align: right;\n    }\n</style>\n<table border=\"1\" class=\"dataframe\">\n  <thead>\n    <tr style=\"text-align: right;\">\n      <th></th>\n      <th>Installs</th>\n      <th>Last Updated</th>\n    </tr>\n  </thead>\n  <tbody>\n    <tr>\n      <th>0</th>\n      <td>10000.0</td>\n      <td>2018-01-07</td>\n    </tr>\n    <tr>\n      <th>1</th>\n      <td>500000.0</td>\n      <td>2018-01-15</td>\n    </tr>\n    <tr>\n      <th>2</th>\n      <td>5000000.0</td>\n      <td>2018-08-01</td>\n    </tr>\n    <tr>\n      <th>3</th>\n      <td>50000000.0</td>\n      <td>2018-06-08</td>\n    </tr>\n    <tr>\n      <th>4</th>\n      <td>100000.0</td>\n      <td>2018-06-20</td>\n    </tr>\n    <tr>\n      <th>5</th>\n      <td>50000.0</td>\n      <td>NaT</td>\n    </tr>\n    <tr>\n      <th>6</th>\n      <td>50000.0</td>\n      <td>2018-04-26</td>\n    </tr>\n    <tr>\n      <th>7</th>\n      <td>1000000.0</td>\n      <td>2018-06-14</td>\n    </tr>\n    <tr>\n      <th>8</th>\n      <td>1000000.0</td>\n      <td>2017-09-20</td>\n    </tr>\n    <tr>\n      <th>9</th>\n      <td>10000.0</td>\n      <td>2018-07-03</td>\n    </tr>\n    <tr>\n      <th>10</th>\n      <td>1000000.0</td>\n      <td>2017-10-27</td>\n    </tr>\n    <tr>\n      <th>11</th>\n      <td>1000000.0</td>\n      <td>2018-07-31</td>\n    </tr>\n    <tr>\n      <th>12</th>\n      <td>10000000.0</td>\n      <td>2018-04-02</td>\n    </tr>\n    <tr>\n      <th>13</th>\n      <td>100000.0</td>\n      <td>2018-06-26</td>\n    </tr>\n    <tr>\n      <th>14</th>\n      <td>100000.0</td>\n      <td>2018-08-03</td>\n    </tr>\n    <tr>\n      <th>15</th>\n      <td>5000.0</td>\n      <td>2018-06-06</td>\n    </tr>\n    <tr>\n      <th>16</th>\n      <td>500000.0</td>\n      <td>2018-07-31</td>\n    </tr>\n    <tr>\n      <th>17</th>\n      <td>10000.0</td>\n      <td>2017-11-07</td>\n    </tr>\n    <tr>\n      <th>18</th>\n      <td>5000000.0</td>\n      <td>2018-08-03</td>\n    </tr>\n    <tr>\n      <th>19</th>\n      <td>10000000.0</td>\n      <td>2018-07-30</td>\n    </tr>\n  </tbody>\n</table>\n</div>"
     },
     "execution_count": 39,
     "metadata": {},
     "output_type": "execute_result"
    }
   ],
   "source": [
    "#Отсортируйте значения по нескольким полям (многоуровневая сортировка) и выведите 20 первых строк таблицы, содержащих столбцы с переменными, по которым проводилась сортировка.\n",
    "df.sort_values(['Installs','Last Updated'], ascending=[False, False])\n",
    "df[['Installs','Last Updated']].head(20)"
   ],
   "metadata": {
    "collapsed": false,
    "pycharm": {
     "name": "#%%\n"
    }
   }
  },
  {
   "cell_type": "code",
   "execution_count": 39,
   "outputs": [],
   "source": [],
   "metadata": {
    "collapsed": false,
    "pycharm": {
     "name": "#%%\n"
    }
   }
  }
 ],
 "metadata": {
  "kernelspec": {
   "display_name": "Python 3",
   "language": "python",
   "name": "python3"
  },
  "language_info": {
   "codemirror_mode": {
    "name": "ipython",
    "version": 3
   },
   "file_extension": ".py",
   "mimetype": "text/x-python",
   "name": "python",
   "nbconvert_exporter": "python",
   "pygments_lexer": "ipython3",
   "version": "3.7.6"
  }
 },
 "nbformat": 4,
 "nbformat_minor": 5
}